{
  "nbformat": 4,
  "nbformat_minor": 0,
  "metadata": {
    "colab": {
      "provenance": [],
      "authorship_tag": "ABX9TyPsqEjrL0wCdlZRjxzJQNhO",
      "include_colab_link": true
    },
    "kernelspec": {
      "name": "python3",
      "display_name": "Python 3"
    },
    "language_info": {
      "name": "python"
    }
  },
  "cells": [
    {
      "cell_type": "markdown",
      "metadata": {
        "id": "view-in-github",
        "colab_type": "text"
      },
      "source": [
        "<a href=\"https://colab.research.google.com/github/WalterPHD/Ai-Data/blob/main/DecisionTree.ipynb\" target=\"_parent\"><img src=\"https://colab.research.google.com/assets/colab-badge.svg\" alt=\"Open In Colab\"/></a>"
      ]
    },
    {
      "cell_type": "markdown",
      "source": [
        "# Scratch"
      ],
      "metadata": {
        "id": "Lxq09mE63xZC"
      }
    },
    {
      "cell_type": "code",
      "execution_count": null,
      "metadata": {
        "id": "tQlHtj_OyEVu"
      },
      "outputs": [],
      "source": [
        "class ScratchDecesionTreeClassifierDepth1():\n",
        "    \"\"\"\n",
        "    Depth 1 decision tree classifier scratch implementation\n",
        "\n",
        "    Parameters\n",
        "    ----------\n",
        "    verbose : bool\n",
        "      True to output the learning process\n",
        "    \"\"\"\n",
        "\n",
        "    def __init__(self, verbose=False):\n",
        "        # Record hyperparameters as attributes\n",
        "        self.verbose = verbose\n",
        "\n",
        "    def fit(self, X, y):\n",
        "        \"\"\"\n",
        "        Learn the decision tree classifier\n",
        "        Parameters\n",
        "        ----------\n",
        "        X : The following forms of ndarray, shape (n_samples, n_features)\n",
        "            Features of training data\n",
        "        y : The following form of ndarray, shape (n_samples,)\n",
        "            Correct answer value of training data\n",
        "        \"\"\"\n",
        "\n",
        "        if self.verbose:\n",
        "            Output the learning process when #verbose is set to True\n",
        "            print()\n",
        "        pass\n",
        "\n",
        "    def predict(self, X):\n",
        "        \"\"\"\n",
        "        Estimate the label using a decision tree classifier\n",
        "        \"\"\"\n",
        "\n",
        "        pass\n",
        "        return"
      ]
    },
    {
      "cell_type": "markdown",
      "source": [
        "# Problem 1 - Function for finding impurness"
      ],
      "metadata": {
        "id": "K14r_PoB32vR"
      }
    },
    {
      "cell_type": "code",
      "source": [
        "def gini_impurity(class_counts):\n",
        "    total = sum(class_counts)\n",
        "    if total == 0:\n",
        "        return 0.0  # No samples at the node = pure\n",
        "    impurity = 1.0\n",
        "    for count in class_counts:\n",
        "        prob = count / total\n",
        "        impurity -= prob ** 2\n",
        "    return impurity\n",
        "\n",
        "examples = {\n",
        "    \"Example 1 (15,15)\": [15, 15],\n",
        "    \"Example 2 (15,15,15)\": [15, 15, 15],\n",
        "    \"Example 3 (18,12)\": [18, 12],\n",
        "    \"Example 4 (30,0)\": [30, 0],\n",
        "}\n",
        "\n",
        "for desc, counts in examples.items():\n",
        "    print(f\"{desc}: Gini Impurity = {gini_impurity(counts):.3f}\")\n"
      ],
      "metadata": {
        "id": "Dqe77_gO34JG"
      },
      "execution_count": null,
      "outputs": []
    },
    {
      "cell_type": "markdown",
      "source": [
        "# Problem 2 - Function for finding information gain"
      ],
      "metadata": {
        "id": "HKD8jPfR9aod"
      }
    },
    {
      "cell_type": "code",
      "source": [
        "def information_gain(parent_counts, left_counts, right_counts):\n",
        "    def gini_impurity(counts):\n",
        "        total = sum(counts)\n",
        "        if total == 0:\n",
        "            return 0.0\n",
        "        probs = [c / total for c in counts]\n",
        "        return 1 - sum(p**2 for p in probs)\n",
        "\n",
        "    total_samples = sum(parent_counts)\n",
        "    left_total = sum(left_counts)\n",
        "    right_total = sum(right_counts)\n",
        "\n",
        "    gini_parent = gini_impurity(parent_counts)\n",
        "    gini_left = gini_impurity(left_counts)\n",
        "    gini_right = gini_impurity(right_counts)\n",
        "\n",
        "    weighted_gini = (left_total / total_samples) * gini_left + (right_total / total_samples) * gini_right\n",
        "    info_gain = gini_parent - weighted_gini\n",
        "    return info_gain\n"
      ],
      "metadata": {
        "id": "jpAUBLQs9aJL"
      },
      "execution_count": null,
      "outputs": []
    },
    {
      "cell_type": "markdown",
      "source": [
        "# Problem 3 - Learning"
      ],
      "metadata": {
        "id": "jCtfgQI9-3kH"
      }
    },
    {
      "cell_type": "code",
      "source": [
        "def fit(self, X, y):\n",
        "    n_samples, n_features = X.shape\n",
        "    best_info_gain = -1  # Starting with worst possible\n",
        "    best_split = {}\n",
        "\n",
        "    # Total class counts at parent node\n",
        "    parent_counts = np.bincount(y)\n",
        "\n",
        "    for feature_idx in range(n_features):\n",
        "        thresholds = np.unique(X[:, feature_idx])\n",
        "        for threshold in thresholds:\n",
        "            left_indices = X[:, feature_idx] <= threshold\n",
        "            right_indices = X[:, feature_idx] > threshold\n",
        "\n",
        "            y_left = y[left_indices]\n",
        "            y_right = y[right_indices]\n",
        "\n",
        "            # Counting class occurrences in each split\n",
        "            left_counts = np.bincount(y_left, minlength=len(parent_counts))\n",
        "            right_counts = np.bincount(y_right, minlength=len(parent_counts))\n",
        "\n",
        "            # Calculating info gain\n",
        "            ig = information_gain(parent_counts, left_counts, right_counts)\n",
        "\n",
        "            if ig > best_info_gain:\n",
        "                best_info_gain = ig\n",
        "                best_split = {\n",
        "                    \"feature\": feature_idx,\n",
        "                    \"threshold\": threshold,\n",
        "                    \"left_class\": Counter(y_left).most_common(1)[0][0] if len(y_left) > 0 else None,\n",
        "                    \"right_class\": Counter(y_right).most_common(1)[0][0] if len(y_right) > 0 else None\n",
        "                }\n",
        "\n",
        "    # Save best split info into self\n",
        "    self.best_feature = best_split[\"feature\"]\n",
        "    self.best_threshold = best_split[\"threshold\"]\n",
        "    self.left_class = best_split[\"left_class\"]\n",
        "    self.right_class = best_split[\"right_class\"]\n",
        "\n",
        "    if self.verbose:\n",
        "        print(f\"Best Feature: {self.best_feature}\")\n",
        "        print(f\"Best Threshold: {self.best_threshold}\")\n",
        "        print(f\"Left Class: {self.left_class}\")\n",
        "        print(f\"Right Class: {self.right_class}\")\n",
        "        print(f\"Information Gain: {best_info_gain:.4f}\")\n"
      ],
      "metadata": {
        "id": "gfDdaIBC-6Da"
      },
      "execution_count": null,
      "outputs": []
    },
    {
      "cell_type": "markdown",
      "source": [
        "# Problem 4 - Estimate"
      ],
      "metadata": {
        "id": "BqVnPRTh-621"
      }
    },
    {
      "cell_type": "code",
      "source": [
        "def predict(self, X):\n",
        "    predictions = []\n",
        "    for sample in X:\n",
        "        value = sample[self.best_feature]\n",
        "        if self.verbose:\n",
        "            print(f\"Feature {self.best_feature} value = {value}, threshold = {self.best_threshold}\")\n",
        "        if value <= self.best_threshold:\n",
        "            predictions.append(self.left_class)\n",
        "        else:\n",
        "            predictions.append(self.right_class)\n",
        "    return np.array(predictions)\n"
      ],
      "metadata": {
        "id": "FPkwMHWL_MJj"
      },
      "execution_count": null,
      "outputs": []
    },
    {
      "cell_type": "markdown",
      "source": [
        "# New Scratch code with all implementations"
      ],
      "metadata": {
        "id": "PGRtfjctASE4"
      }
    },
    {
      "cell_type": "code",
      "source": [
        "import numpy as np\n",
        "from collections import Counter\n",
        "from sklearn.metrics import accuracy_score, precision_score, recall_score, f1_score\n",
        "\n",
        "def gini(y):\n",
        "    counts = np.bincount(y)\n",
        "    probabilities = counts / len(y)\n",
        "    return 1.0 - np.sum(probabilities ** 2)\n",
        "\n",
        "class Node:\n",
        "    def __init__(self, feature=None, threshold=None, left=None, right=None, *, value=None):\n",
        "        self.feature = feature\n",
        "        self.threshold = threshold\n",
        "        self.left = left\n",
        "        self.right = right\n",
        "        self.value = value\n",
        "\n",
        "    def is_leaf_node(self):\n",
        "        return self.value is not None\n",
        "\n",
        "class ScratchDecisionTreeClassifier:\n",
        "    def __init__(self, min_samples_split=2, max_depth=10, n_feats=None):\n",
        "        self.min_samples_split = min_samples_split\n",
        "        self.max_depth = max_depth\n",
        "        self.n_feats = n_feats\n",
        "        self.root = None\n",
        "\n",
        "    def fit(self, X, y):\n",
        "        self.n_feats = X.shape[1] if not self.n_feats else min(self.n_feats, X.shape[1])\n",
        "        self.root = self._grow_tree(X, y)\n",
        "\n",
        "    def predict(self, X):\n",
        "        return np.array([self._traverse_tree(x, self.root) for x in X])\n",
        "\n",
        "    def _grow_tree(self, X, y, depth=0):\n",
        "        n_samples, n_features = X.shape\n",
        "        n_labels = len(np.unique(y))\n",
        "\n",
        "        # Stopping criteria\n",
        "        if (depth >= self.max_depth or n_labels == 1 or n_samples < self.min_samples_split):\n",
        "            leaf_value = self._most_common_label(y)\n",
        "            return Node(value=leaf_value)\n",
        "\n",
        "        feat_idxs = np.random.choice(n_features, self.n_feats, replace=False)\n",
        "        best_feat, best_thresh = self._best_criteria(X, y, feat_idxs)\n",
        "\n",
        "        left_idxs, right_idxs = self._split(X[:, best_feat], best_thresh)\n",
        "\n",
        "        if len(left_idxs) == 0 or len(right_idxs) == 0:\n",
        "            # No split possible..: make leaf\n",
        "            leaf_value = self._most_common_label(y)\n",
        "            return Node(value=leaf_value)\n",
        "\n",
        "        left = self._grow_tree(X[left_idxs, :], y[left_idxs], depth + 1)\n",
        "        right = self._grow_tree(X[right_idxs, :], y[right_idxs], depth + 1)\n",
        "\n",
        "        return Node(best_feat, best_thresh, left, right)\n",
        "\n",
        "    def _best_criteria(self, X, y, feat_idxs):\n",
        "        best_gain = -1\n",
        "        split_idx, split_thresh = None, None\n",
        "        for feat_idx in feat_idxs:\n",
        "            X_column = X[:, feat_idx]\n",
        "            thresholds = np.unique(X_column)\n",
        "            for threshold in thresholds:\n",
        "                gain = self._information_gain(y, X_column, threshold)\n",
        "                if gain > best_gain:\n",
        "                    best_gain = gain\n",
        "                    split_idx = feat_idx\n",
        "                    split_thresh = threshold\n",
        "        return split_idx, split_thresh\n",
        "\n",
        "    def _information_gain(self, y, X_column, split_thresh):\n",
        "        parent_gini = gini(y)\n",
        "\n",
        "        left_idxs, right_idxs = self._split(X_column, split_thresh)\n",
        "        if len(left_idxs) == 0 or len(right_idxs) == 0:\n",
        "            return 0\n",
        "\n",
        "        n = len(y)\n",
        "        n_l, n_r = len(left_idxs), len(right_idxs)\n",
        "        gini_left, gini_right = gini(y[left_idxs]), gini(y[right_idxs])\n",
        "\n",
        "        child_gini = (n_l / n) * gini_left + (n_r / n) * gini_right\n",
        "        ig = parent_gini - child_gini\n",
        "        return ig\n",
        "\n",
        "    def _split(self, X_column, split_thresh):\n",
        "        left_idxs = np.argwhere(X_column <= split_thresh).flatten()\n",
        "        right_idxs = np.argwhere(X_column > split_thresh).flatten()\n",
        "        return left_idxs, right_idxs\n",
        "\n",
        "    def _traverse_tree(self, x, node):\n",
        "        if node.is_leaf_node():\n",
        "            return node.value\n",
        "        if x[node.feature] <= node.threshold:\n",
        "            return self._traverse_tree(x, node.left)\n",
        "        else:\n",
        "            return self._traverse_tree(x, node.right)\n",
        "\n",
        "    def _most_common_label(self, y):\n",
        "        counter = Counter(y)\n",
        "        most_common = counter.most_common(1)[0][0]\n",
        "        return most_common\n"
      ],
      "metadata": {
        "id": "XTLOTGFhAX_M"
      },
      "execution_count": 9,
      "outputs": []
    },
    {
      "cell_type": "markdown",
      "source": [
        "# Problem 5 - Learning and Estimation"
      ],
      "metadata": {
        "id": "acsvpYp-_w5A"
      }
    },
    {
      "cell_type": "code",
      "source": [
        "from sklearn.datasets import load_iris\n",
        "from sklearn.model_selection import train_test_split\n",
        "\n",
        "# Load Iris dataset (3 classes)\n",
        "iris = load_iris()\n",
        "X, y = iris.data, iris.target\n",
        "\n",
        "# Spliting data\n",
        "X_train, X_test, y_train, y_test = train_test_split(X, y, test_size=0.3, random_state=42)\n",
        "\n",
        "# Initializing and train scratch tree\n",
        "model = ScratchDecisionTreeClassifier(max_depth=5, min_samples_split=5, n_feats=2)\n",
        "model.fit(X_train, y_train)\n",
        "\n",
        "# Predicting\n",
        "y_pred = model.predict(X_test)\n",
        "\n",
        "# Evaluating\n",
        "from sklearn.metrics import accuracy_score, precision_score, recall_score, f1_score\n",
        "\n",
        "print(\"Scratch Decision Tree performance:\")\n",
        "print(\"Accuracy:\", accuracy_score(y_test, y_pred))\n",
        "print(\"Precision (macro):\", precision_score(y_test, y_pred, average='macro'))\n",
        "print(\"Recall (macro):\", recall_score(y_test, y_pred, average='macro'))\n",
        "print(\"F1 Score (macro):\", f1_score(y_test, y_pred, average='macro'))\n"
      ],
      "metadata": {
        "colab": {
          "base_uri": "https://localhost:8080/"
        },
        "id": "y54zrPgr_OSR",
        "outputId": "368d3642-dcee-45f9-db4b-a0d3e560d653"
      },
      "execution_count": 10,
      "outputs": [
        {
          "output_type": "stream",
          "name": "stdout",
          "text": [
            "Scratch Decision Tree performance:\n",
            "Accuracy: 0.9777777777777777\n",
            "Precision (macro): 0.9761904761904763\n",
            "Recall (macro): 0.9743589743589745\n",
            "F1 Score (macro): 0.974320987654321\n"
          ]
        }
      ]
    },
    {
      "cell_type": "code",
      "source": [
        "from sklearn.tree import DecisionTreeClassifier\n",
        "from sklearn.metrics import accuracy_score, precision_score, recall_score, f1_score\n",
        "\n",
        "clf = DecisionTreeClassifier(max_depth=1, random_state=42)\n",
        "clf.fit(X_train, y_train)\n",
        "y_pred_sklearn = clf.predict(X_test)\n",
        "\n",
        "print(\"\\nScikit-learn Decision Tree Results:\")\n",
        "print(\"Accuracy:\", accuracy_score(y_test, y_pred_sklearn))\n",
        "print(\"Precision (macro):\", precision_score(y_test, y_pred_sklearn, average='macro'))\n",
        "print(\"Recall (macro):\", recall_score(y_test, y_pred_sklearn, average='macro'))\n",
        "print(\"F1 Score (macro):\", f1_score(y_test, y_pred_sklearn, average='macro'))"
      ],
      "metadata": {
        "colab": {
          "base_uri": "https://localhost:8080/"
        },
        "id": "7WZNqacy_7sF",
        "outputId": "58807253-4c02-41d1-80a8-47ac8a55b2cd"
      },
      "execution_count": 12,
      "outputs": [
        {
          "output_type": "stream",
          "name": "stdout",
          "text": [
            "\n",
            "Scikit-learn Decision Tree Results:\n",
            "Accuracy: 0.7111111111111111\n",
            "Precision (macro): 0.5\n",
            "Recall (macro): 0.6666666666666666\n",
            "F1 Score (macro): 0.5555555555555555\n"
          ]
        },
        {
          "output_type": "stream",
          "name": "stderr",
          "text": [
            "/usr/local/lib/python3.11/dist-packages/sklearn/metrics/_classification.py:1565: UndefinedMetricWarning: Precision is ill-defined and being set to 0.0 in labels with no predicted samples. Use `zero_division` parameter to control this behavior.\n",
            "  _warn_prf(average, modifier, f\"{metric.capitalize()} is\", len(result))\n"
          ]
        }
      ]
    },
    {
      "cell_type": "markdown",
      "source": [
        "# Problem 6 - Visualizing"
      ],
      "metadata": {
        "id": "qGiDYsn5BtiE"
      }
    },
    {
      "cell_type": "code",
      "source": [
        "import numpy as np\n",
        "from collections import Counter\n",
        "\n",
        "class TreeNode:\n",
        "    def __init__(self, depth=0, max_depth=3, min_samples_split=2):\n",
        "        \"\"\"\n",
        "        Initialize a tree node.\n",
        "\n",
        "        Parameters:\n",
        "        - depth: current depth of the node\n",
        "        - max_depth: maximum allowed depth for recursion\n",
        "        - min_samples_split: minimum samples needed to split\n",
        "        \"\"\"\n",
        "        self.depth = depth\n",
        "        self.max_depth = max_depth\n",
        "        self.min_samples_split = min_samples_split\n",
        "\n",
        "        self.feature_index = None\n",
        "        self.threshold = None\n",
        "        self.left = None\n",
        "        self.right = None\n",
        "        self.value = None\n",
        "\n",
        "    def fit(self, X, y):\n",
        "        \"\"\"\n",
        "        Recursively fit the tree node.\n",
        "        \"\"\"\n",
        "        n_samples, n_features = X.shape\n",
        "        num_classes = len(np.unique(y))\n",
        "\n",
        "        # Stop conditions\n",
        "        if (self.depth >= self.max_depth or n_samples < self.min_samples_split or num_classes == 1):\n",
        "            # Assign leaf node value by majority class\n",
        "            self.value = self._most_common_label(y)\n",
        "            return\n",
        "\n",
        "        # Finding the best split\n",
        "        best_gain = -1\n",
        "        best_feat = None\n",
        "        best_thresh = None\n",
        "\n",
        "        for feature_index in range(n_features):\n",
        "            thresholds = np.unique(X[:, feature_index])\n",
        "            for threshold in thresholds:\n",
        "                gain = self._information_gain(X, y, feature_index, threshold)\n",
        "                if gain > best_gain:\n",
        "                    best_gain = gain\n",
        "                    best_feat = feature_index\n",
        "                    best_thresh = threshold\n",
        "\n",
        "        # If no gain, make leaf node\n",
        "        if best_gain == 0:\n",
        "            self.value = self._most_common_label(y)\n",
        "            return\n",
        "\n",
        "        # Saving best split\n",
        "        self.feature_index = best_feat\n",
        "        self.threshold = best_thresh\n",
        "\n",
        "        # Spliting data\n",
        "        left_indices = X[:, best_feat] <= best_thresh\n",
        "        right_indices = X[:, best_feat] > best_thresh\n",
        "\n",
        "        # Create child nodes and recurse\n",
        "        self.left = TreeNode(depth=self.depth + 1,\n",
        "                             max_depth=self.max_depth,\n",
        "                             min_samples_split=self.min_samples_split)\n",
        "        self.left.fit(X[left_indices], y[left_indices])\n",
        "\n",
        "        self.right = TreeNode(depth=self.depth + 1,\n",
        "                              max_depth=self.max_depth,\n",
        "                              min_samples_split=self.min_samples_split)\n",
        "        self.right.fit(X[right_indices], y[right_indices])\n",
        "\n",
        "    def predict(self, X):\n",
        "        \"\"\"\n",
        "        Predict class for each sample in X.\n",
        "        \"\"\"\n",
        "        return np.array([self._predict_single(x) for x in X])\n",
        "\n",
        "    def _predict_single(self, x):\n",
        "        \"\"\"\n",
        "        Helper method to predict a single sample.\n",
        "        \"\"\"\n",
        "        if self.value is not None:\n",
        "            return self.value\n",
        "\n",
        "        if x[self.feature_index] <= self.threshold:\n",
        "            return self.left._predict_single(x)\n",
        "        else:\n",
        "            return self.right._predict_single(x)\n",
        "\n",
        "    def _most_common_label(self, y):\n",
        "        \"\"\"\n",
        "        Return the most common class label from y.\n",
        "        \"\"\"\n",
        "        counter = Counter(y)\n",
        "        return counter.most_common(1)[0][0]\n",
        "\n",
        "    def _gini(self, y):\n",
        "        \"\"\"\n",
        "        Compute Gini impurity for labels y.\n",
        "        \"\"\"\n",
        "        counts = np.bincount(y)\n",
        "        probabilities = counts / len(y)\n",
        "        return 1 - np.sum(probabilities ** 2)\n",
        "\n",
        "    def _information_gain(self, X, y, feature_index, threshold):\n",
        "        \"\"\"\n",
        "        Compute information gain from splitting y by threshold on feature_index.\n",
        "        \"\"\"\n",
        "        parent_gini = self._gini(y)\n",
        "\n",
        "        left_indices = X[:, feature_index] <= threshold\n",
        "        right_indices = X[:, feature_index] > threshold\n",
        "\n",
        "        if sum(left_indices) == 0 or sum(right_indices) == 0:\n",
        "            return 0\n",
        "\n",
        "        n = len(y)\n",
        "        n_left, n_right = sum(left_indices), sum(right_indices)\n",
        "\n",
        "        gini_left = self._gini(y[left_indices])\n",
        "        gini_right = self._gini(y[right_indices])\n",
        "\n",
        "        child_gini = (n_left / n) * gini_left + (n_right / n) * gini_right\n",
        "\n",
        "        return parent_gini - child_gini\n"
      ],
      "metadata": {
        "id": "PXAlRiP4B8MM"
      },
      "execution_count": 19,
      "outputs": []
    },
    {
      "cell_type": "code",
      "source": [
        "from sklearn.datasets import load_iris\n",
        "from sklearn.model_selection import train_test_split\n",
        "from sklearn.metrics import accuracy_score, precision_score, recall_score, f1_score\n",
        "\n",
        "# Load data\n",
        "iris = load_iris()\n",
        "X_train, X_test, y_train, y_test = train_test_split(\n",
        "    iris.data, iris.target, test_size=0.3, random_state=0\n",
        ")\n",
        "\n",
        "# Initializing tree and fitting\n",
        "tree = TreeNode(max_depth=3, min_samples_split=5)\n",
        "tree.fit(X_train, y_train)\n",
        "\n",
        "# Predictions\n",
        "train_pred = tree.predict(X_train)\n",
        "test_pred = tree.predict(X_test)\n",
        "\n",
        "# Metrics on training data\n",
        "print(\"Train accuracy:\", accuracy_score(y_train, train_pred))\n",
        "print(\"Train precision (macro):\", precision_score(y_train, train_pred, average='macro'))\n",
        "print(\"Train recall (macro):\", recall_score(y_train, train_pred, average='macro'))\n",
        "print(\"Train f1 (macro):\", f1_score(y_train, train_pred, average='macro'))\n",
        "\n"
      ],
      "metadata": {
        "colab": {
          "base_uri": "https://localhost:8080/"
        },
        "id": "K5EtyI--EtJo",
        "outputId": "9c44bf18-b1f2-48bb-c01a-d73c5a20fa18"
      },
      "execution_count": 20,
      "outputs": [
        {
          "output_type": "stream",
          "name": "stdout",
          "text": [
            "Train accuracy: 0.9809523809523809\n",
            "Train precision (macro): 0.983739837398374\n",
            "Train recall (macro): 0.9791666666666666\n",
            "Train f1 (macro): 0.9809139784946237\n"
          ]
        }
      ]
    },
    {
      "cell_type": "code",
      "source": [
        "import numpy as np\n",
        "import matplotlib.pyplot as plt\n",
        "from sklearn.datasets import load_iris\n",
        "from sklearn.model_selection import train_test_split\n",
        "\n",
        "\n",
        "iris = load_iris()\n",
        "X = iris.data[:, :2]\n",
        "y = iris.target\n",
        "\n",
        "# Split data\n",
        "X_train, X_test, y_train, y_test = train_test_split(\n",
        "    X, y, test_size=0.3, random_state=42\n",
        ")\n",
        "\n",
        "# Initializing and fitting\n",
        "tree = TreeNode(max_depth=3, min_samples_split=5)\n",
        "tree.fit(X_train, y_train)\n",
        "\n",
        "def plot_decision_boundary(model, X, y, ax, title):\n",
        "    x_min, x_max = X[:, 0].min() - 1, X[:, 0].max() + 1\n",
        "    y_min, y_max = X[:, 1].min() - 1, X[:, 1].max() + 1\n",
        "\n",
        "    xx, yy = np.meshgrid(\n",
        "        np.arange(x_min, x_max, 0.01),\n",
        "        np.arange(y_min, y_max, 0.01)\n",
        "    )\n",
        "\n",
        "    grid_points = np.c_[xx.ravel(), yy.ravel()]\n",
        "    Z = model.predict(grid_points)\n",
        "    Z = Z.reshape(xx.shape)\n",
        "\n",
        "    # visualizing decision regions\n",
        "    ax.contourf(xx, yy, Z, alpha=0.3, cmap=plt.cm.coolwarm)\n",
        "\n",
        "    # dots\n",
        "    scatter = ax.scatter(X[:, 0], X[:, 1], c=y, s=40, edgecolor='k', cmap=plt.cm.coolwarm)\n",
        "\n",
        "    ax.set_xlabel(\"Sepal length (cm)\")\n",
        "    ax.set_ylabel(\"Sepal width (cm)\")\n",
        "    ax.set_title(title)\n",
        "\n",
        "# Plot\n",
        "fig, ax = plt.subplots(figsize=(7, 5))\n",
        "plot_decision_boundary(tree, X_test, y_test, ax, \"Custom TreeNode Decision Tree\")\n",
        "\n",
        "plt.show()\n"
      ],
      "metadata": {
        "colab": {
          "base_uri": "https://localhost:8080/",
          "height": 487
        },
        "id": "HE5b7FneFbgo",
        "outputId": "b0397536-a185-49d7-cd6e-dcccdfb8d836"
      },
      "execution_count": 21,
      "outputs": [
        {
          "output_type": "display_data",
          "data": {
            "text/plain": [
              "<Figure size 700x500 with 1 Axes>"
            ],
            "image/png": "[encoded data removed]"
          },
          "metadata": {}
        }
      ]
    },
    {
      "cell_type": "code",
      "source": [
        "from sklearn.tree import DecisionTreeClassifier\n",
        "\n",
        "sklearn_tree = DecisionTreeClassifier(max_depth=3, random_state=42)\n",
        "sklearn_tree.fit(X_train, y_train)\n",
        "\n",
        "fig, axs = plt.subplots(1, 2, figsize=(14, 5))\n",
        "plot_decision_boundary(tree, X_test, y_test, axs[0], \"Custom TreeNode Decision Tree\")\n",
        "plot_decision_boundary(sklearn_tree, X_test, y_test, axs[1], \"Sklearn Decision Tree\")\n",
        "\n",
        "plt.show()\n"
      ],
      "metadata": {
        "colab": {
          "base_uri": "https://localhost:8080/",
          "height": 487
        },
        "id": "8ZjW4R6eFvOQ",
        "outputId": "d9ddf8c8-a630-431b-9840-073dee672d3a"
      },
      "execution_count": 22,
      "outputs": [
        {
          "output_type": "display_data",
          "data": {
            "text/plain": [
              "<Figure size 1400x500 with 2 Axes>"
            ],
            "image/png": "[encoded data removed]"
          },
          "metadata": {}
        }
      ]
    },
    {
      "cell_type": "markdown",
      "source": [
        "# Problem 7 - Advanced Depth of 2"
      ],
      "metadata": {
        "id": "bzXmFOwBGdYU"
      }
    },
    {
      "cell_type": "code",
      "source": [
        "import numpy as np\n",
        "from collections import Counter\n",
        "\n",
        "class Node:\n",
        "    def __init__(self, depth=0, max_depth=2):\n",
        "        self.depth = depth\n",
        "        self.max_depth = max_depth\n",
        "\n",
        "        self.feature_index = None\n",
        "        self.threshold = None\n",
        "        self.left = None\n",
        "        self.right = None\n",
        "        self.value = None\n",
        "\n",
        "    def is_leaf_node(self):\n",
        "        return self.value is not None\n",
        "\n",
        "class ScratchDecisionTreeClassifierDepth2:\n",
        "    def __init__(self):\n",
        "        self.root = None\n",
        "\n",
        "    def fit(self, X, y):\n",
        "        self.root = self._grow_tree(X, y, depth=0)\n",
        "\n",
        "    def _grow_tree(self, X, y, depth):\n",
        "        num_samples, num_features = X.shape\n",
        "        num_labels = len(np.unique(y))\n",
        "\n",
        "        # Stop conditions: max depth reached or pure node\n",
        "        if depth == 2 or num_labels == 1 or num_samples == 0:\n",
        "            leaf_value = self._most_common_label(y)\n",
        "            leaf_node = Node(depth=depth)\n",
        "            leaf_node.value = leaf_value\n",
        "            return leaf_node\n",
        "\n",
        "        # Find best split\n",
        "        best_feat, best_thresh = self._best_criteria(X, y)\n",
        "\n",
        "        # If no split found, make leaf\n",
        "        if best_feat is None:\n",
        "            leaf_value = self._most_common_label(y)\n",
        "            leaf_node = Node(depth=depth)\n",
        "            leaf_node.value = leaf_value\n",
        "            return leaf_node\n",
        "\n",
        "        # Create node and split data recursively\n",
        "        node = Node(depth=depth)\n",
        "        node.feature_index = best_feat\n",
        "        node.threshold = best_thresh\n",
        "\n",
        "        left_indices = X[:, best_feat] <= best_thresh\n",
        "        right_indices = X[:, best_feat] > best_thresh\n",
        "\n",
        "        node.left = self._grow_tree(X[left_indices], y[left_indices], depth + 1)\n",
        "        node.right = self._grow_tree(X[right_indices], y[right_indices], depth + 1)\n",
        "\n",
        "        return node\n",
        "\n",
        "    def _best_criteria(self, X, y):\n",
        "        best_gain = -1\n",
        "        split_idx, split_thresh = None, None\n",
        "        for feature_index in range(X.shape[1]):\n",
        "            thresholds = np.unique(X[:, feature_index])\n",
        "            for threshold in thresholds:\n",
        "                gain = self._information_gain(X, y, feature_index, threshold)\n",
        "                if gain > best_gain:\n",
        "                    best_gain = gain\n",
        "                    split_idx = feature_index\n",
        "                    split_thresh = threshold\n",
        "        return split_idx, split_thresh\n",
        "\n",
        "    def _information_gain(self, X, y, feature_index, threshold):\n",
        "        parent_gini = self._gini(y)\n",
        "\n",
        "        left_indices = X[:, feature_index] <= threshold\n",
        "        right_indices = X[:, feature_index] > threshold\n",
        "\n",
        "        if sum(left_indices) == 0 or sum(right_indices) == 0:\n",
        "            return 0\n",
        "\n",
        "        n = len(y)\n",
        "        n_left = sum(left_indices)\n",
        "        n_right = sum(right_indices)\n",
        "\n",
        "        gini_left = self._gini(y[left_indices])\n",
        "        gini_right = self._gini(y[right_indices])\n",
        "\n",
        "        weighted_gini = (n_left / n) * gini_left + (n_right / n) * gini_right\n",
        "\n",
        "        return parent_gini - weighted_gini\n",
        "\n",
        "    def _gini(self, y):\n",
        "        counts = np.bincount(y)\n",
        "        probabilities = counts / len(y)\n",
        "        return 1 - np.sum(probabilities ** 2)\n",
        "\n",
        "    def _most_common_label(self, y):\n",
        "        counter = Counter(y)\n",
        "        return counter.most_common(1)[0][0]\n",
        "\n",
        "    def predict(self, X):\n",
        "        return np.array([self._traverse_tree(x, self.root) for x in X])\n",
        "\n",
        "    def _traverse_tree(self, x, node):\n",
        "        if node.is_leaf_node():\n",
        "            return node.value\n",
        "        if x[node.feature_index] <= node.threshold:\n",
        "            return self._traverse_tree(x, node.left)\n",
        "        else:\n",
        "            return self._traverse_tree(x, node.right)\n"
      ],
      "metadata": {
        "id": "HaRXvCBhGfzG"
      },
      "execution_count": 23,
      "outputs": []
    },
    {
      "cell_type": "code",
      "source": [
        "# Initializing and training\n",
        "model = ScratchDecisionTreeClassifierDepth2()\n",
        "model.fit(X_train, y_train)\n",
        "\n",
        "# Prediction\n",
        "y_pred = model.predict(X_test)\n"
      ],
      "metadata": {
        "id": "OzKVzXLzGsem"
      },
      "execution_count": 24,
      "outputs": []
    },
    {
      "cell_type": "code",
      "source": [
        "from sklearn.metrics import accuracy_score, precision_score, recall_score, f1_score\n",
        "\n",
        "# Calculate and print metrics\n",
        "print(\"Accuracy:\", accuracy_score(y_test, y_pred))\n",
        "print(\"Precision (macro):\", precision_score(y_test, y_pred, average='macro'))\n",
        "print(\"Recall (macro):\", recall_score(y_test, y_pred, average='macro'))\n",
        "print(\"F1 Score (macro):\", f1_score(y_test, y_pred, average='macro'))\n"
      ],
      "metadata": {
        "colab": {
          "base_uri": "https://localhost:8080/"
        },
        "id": "okIxyW1-G8WI",
        "outputId": "946819b6-042e-4240-f05e-07a141c4db0d"
      },
      "execution_count": 25,
      "outputs": [
        {
          "output_type": "stream",
          "name": "stdout",
          "text": [
            "Accuracy: 0.7555555555555555\n",
            "Precision (macro): 0.7434640522875817\n",
            "Recall (macro): 0.7422402159244265\n",
            "F1 Score (macro): 0.7358730158730159\n"
          ]
        }
      ]
    },
    {
      "cell_type": "markdown",
      "source": [
        "# Problem 8 - Unlimited Depth"
      ],
      "metadata": {
        "id": "yEo2mihlHM0Y"
      }
    },
    {
      "cell_type": "code",
      "source": [
        "import numpy as np\n",
        "from collections import Counter\n",
        "\n",
        "class Node:\n",
        "    def __init__(self, depth=0):\n",
        "        self.depth = depth\n",
        "        self.feature_index = None\n",
        "        self.threshold = None\n",
        "        self.left = None\n",
        "        self.right = None\n",
        "        self.value = None\n",
        "\n",
        "    def is_leaf_node(self):\n",
        "        return self.value is not None\n",
        "\n",
        "class ScratchDecisionTreeClassifierDepthInf:\n",
        "    def __init__(self, max_depth=None, verbose=False):\n",
        "        \"\"\"\n",
        "        Parameters:\n",
        "        - max_depth: int or None (None means unlimited)\n",
        "        - verbose: bool to print training steps\n",
        "        \"\"\"\n",
        "        self.max_depth = max_depth\n",
        "        self.verbose = verbose\n",
        "        self.root = None\n",
        "\n",
        "    def fit(self, X, y):\n",
        "        if self.verbose:\n",
        "            print(f\"Starting training with max_depth={self.max_depth}\")\n",
        "        self.root = self._grow_tree(X, y, depth=0)\n",
        "\n",
        "    def _grow_tree(self, X, y, depth):\n",
        "        n_samples, n_features = X.shape\n",
        "        num_labels = len(np.unique(y))\n",
        "\n",
        "        if self.verbose:\n",
        "            print(f\"{'|   ' * depth}Depth {depth}: {n_samples} samples, {num_labels} unique labels\")\n",
        "\n",
        "        # Stop if pure node, max depth reached or no samples\n",
        "        if num_labels == 1:\n",
        "            leaf_value = y[0]\n",
        "            if self.verbose:\n",
        "                print(f\"{'|   ' * depth}Pure node found with class {leaf_value}\")\n",
        "            leaf_node = Node(depth=depth)\n",
        "            leaf_node.value = leaf_value\n",
        "            return leaf_node\n",
        "\n",
        "        if self.max_depth is not None and depth >= self.max_depth:\n",
        "            leaf_value = self._most_common_label(y)\n",
        "            if self.verbose:\n",
        "                print(f\"{'|   ' * depth}Max depth reached, assigning class {leaf_value}\")\n",
        "            leaf_node = Node(depth=depth)\n",
        "            leaf_node.value = leaf_value\n",
        "            return leaf_node\n",
        "\n",
        "        if n_samples == 0:\n",
        "            if self.verbose:\n",
        "                print(f\"{'|   ' * depth}No samples, returning None\")\n",
        "            return None\n",
        "\n",
        "        best_feat, best_thresh, best_gain = self._best_criteria(X, y)\n",
        "\n",
        "        if best_gain == 0 or best_feat is None:\n",
        "            leaf_value = self._most_common_label(y)\n",
        "            if self.verbose:\n",
        "                print(f\"{'|   ' * depth}No gain from split, assigning class {leaf_value}\")\n",
        "            leaf_node = Node(depth=depth)\n",
        "            leaf_node.value = leaf_value\n",
        "            return leaf_node\n",
        "\n",
        "        node = Node(depth=depth)\n",
        "        node.feature_index = best_feat\n",
        "        node.threshold = best_thresh\n",
        "\n",
        "        if self.verbose:\n",
        "            print(f\"{'|   ' * depth}Splitting: feature {best_feat} at threshold {best_thresh:.4f} with gain {best_gain:.4f}\")\n",
        "\n",
        "        left_indices = X[:, best_feat] <= best_thresh\n",
        "        right_indices = X[:, best_feat] > best_thresh\n",
        "\n",
        "        node.left = self._grow_tree(X[left_indices], y[left_indices], depth + 1)\n",
        "        node.right = self._grow_tree(X[right_indices], y[right_indices], depth + 1)\n",
        "\n",
        "        return node\n",
        "\n",
        "    def _best_criteria(self, X, y):\n",
        "        best_gain = 0\n",
        "        split_idx, split_thresh = None, None\n",
        "        for feature_index in range(X.shape[1]):\n",
        "            thresholds = np.unique(X[:, feature_index])\n",
        "            for threshold in thresholds:\n",
        "                gain = self._information_gain(X, y, feature_index, threshold)\n",
        "                if gain > best_gain:\n",
        "                    best_gain = gain\n",
        "                    split_idx = feature_index\n",
        "                    split_thresh = threshold\n",
        "        return split_idx, split_thresh, best_gain\n",
        "\n",
        "    def _information_gain(self, X, y, feature_index, threshold):\n",
        "        parent_gini = self._gini(y)\n",
        "\n",
        "        left_indices = X[:, feature_index] <= threshold\n",
        "        right_indices = X[:, feature_index] > threshold\n",
        "\n",
        "        if sum(left_indices) == 0 or sum(right_indices) == 0:\n",
        "            return 0\n",
        "\n",
        "        n = len(y)\n",
        "        n_left = sum(left_indices)\n",
        "        n_right = sum(right_indices)\n",
        "\n",
        "        gini_left = self._gini(y[left_indices])\n",
        "        gini_right = self._gini(y[right_indices])\n",
        "\n",
        "        weighted_gini = (n_left / n) * gini_left + (n_right / n) * gini_right\n",
        "\n",
        "        return parent_gini - weighted_gini\n",
        "\n",
        "    def _gini(self, y):\n",
        "        counts = np.bincount(y)\n",
        "        probabilities = counts / len(y)\n",
        "        return 1 - np.sum(probabilities ** 2)\n",
        "\n",
        "    def _most_common_label(self, y):\n",
        "        counter = Counter(y)\n",
        "        return counter.most_common(1)[0][0]\n",
        "\n",
        "    def predict(self, X):\n",
        "        return np.array([self._traverse_tree(x, self.root) for x in X])\n",
        "\n",
        "    def _traverse_tree(self, x, node):\n",
        "        if node.is_leaf_node():\n",
        "            return node.value\n",
        "        if x[node.feature_index] <= node.threshold:\n",
        "            return self._traverse_tree(x, node.left)\n",
        "        else:\n",
        "            return self._traverse_tree(x, node.right)\n"
      ],
      "metadata": {
        "id": "ZikXl4D2HMHU"
      },
      "execution_count": 26,
      "outputs": []
    },
    {
      "cell_type": "code",
      "source": [
        "# Example usage with iris dataset\n",
        "from sklearn.datasets import load_iris\n",
        "from sklearn.model_selection import train_test_split\n",
        "from sklearn.metrics import accuracy_score, precision_score, recall_score, f1_score\n",
        "\n",
        "iris = load_iris()\n",
        "X_train, X_test, y_train, y_test = train_test_split(\n",
        "    iris.data, iris.target, test_size=0.3, random_state=42\n",
        ")\n",
        "\n",
        "model = ScratchDecisionTreeClassifierDepthInf(max_depth=None, verbose=True)\n",
        "model.fit(X_train, y_train)\n",
        "\n",
        "y_pred = model.predict(X_test)\n",
        "\n",
        "print(\"Accuracy:\", accuracy_score(y_test, y_pred))\n",
        "print(\"Precision (macro):\", precision_score(y_test, y_pred, average='macro'))\n",
        "print(\"Recall (macro):\", recall_score(y_test, y_pred, average='macro'))\n",
        "print(\"F1 Score (macro):\", f1_score(y_test, y_pred, average='macro'))\n"
      ],
      "metadata": {
        "colab": {
          "base_uri": "https://localhost:8080/"
        },
        "id": "A1mYeBiQHZ9P",
        "outputId": "0e49c980-6fdb-4233-b9ff-1130193304a1"
      },
      "execution_count": 27,
      "outputs": [
        {
          "output_type": "stream",
          "name": "stdout",
          "text": [
            "Starting training with max_depth=None\n",
            "Depth 0: 105 samples, 3 unique labels\n",
            "Splitting: feature 2 at threshold 1.9000 with gain 0.3121\n",
            "|   Depth 1: 31 samples, 1 unique labels\n",
            "|   Pure node found with class 0\n",
            "|   Depth 1: 74 samples, 2 unique labels\n",
            "|   Splitting: feature 2 at threshold 4.7000 with gain 0.3551\n",
            "|   |   Depth 2: 33 samples, 2 unique labels\n",
            "|   |   Splitting: feature 3 at threshold 1.5000 with gain 0.0588\n",
            "|   |   |   Depth 3: 32 samples, 1 unique labels\n",
            "|   |   |   Pure node found with class 1\n",
            "|   |   |   Depth 3: 1 samples, 1 unique labels\n",
            "|   |   |   Pure node found with class 2\n",
            "|   |   Depth 2: 41 samples, 2 unique labels\n",
            "|   |   Splitting: feature 3 at threshold 1.7000 with gain 0.0693\n",
            "|   |   |   Depth 3: 8 samples, 2 unique labels\n",
            "|   |   |   Splitting: feature 2 at threshold 4.9000 with gain 0.1667\n",
            "|   |   |   |   Depth 4: 2 samples, 1 unique labels\n",
            "|   |   |   |   Pure node found with class 1\n",
            "|   |   |   |   Depth 4: 6 samples, 2 unique labels\n",
            "|   |   |   |   Splitting: feature 3 at threshold 1.5000 with gain 0.2222\n",
            "|   |   |   |   |   Depth 5: 3 samples, 1 unique labels\n",
            "|   |   |   |   |   Pure node found with class 2\n",
            "|   |   |   |   |   Depth 5: 3 samples, 2 unique labels\n",
            "|   |   |   |   |   Splitting: feature 0 at threshold 6.7000 with gain 0.4444\n",
            "|   |   |   |   |   |   Depth 6: 2 samples, 1 unique labels\n",
            "|   |   |   |   |   |   Pure node found with class 1\n",
            "|   |   |   |   |   |   Depth 6: 1 samples, 1 unique labels\n",
            "|   |   |   |   |   |   Pure node found with class 2\n",
            "|   |   |   Depth 3: 33 samples, 2 unique labels\n",
            "|   |   |   Splitting: feature 2 at threshold 4.8000 with gain 0.0184\n",
            "|   |   |   |   Depth 4: 3 samples, 2 unique labels\n",
            "|   |   |   |   Splitting: feature 0 at threshold 5.9000 with gain 0.4444\n",
            "|   |   |   |   |   Depth 5: 1 samples, 1 unique labels\n",
            "|   |   |   |   |   Pure node found with class 1\n",
            "|   |   |   |   |   Depth 5: 2 samples, 1 unique labels\n",
            "|   |   |   |   |   Pure node found with class 2\n",
            "|   |   |   |   Depth 4: 30 samples, 1 unique labels\n",
            "|   |   |   |   Pure node found with class 2\n",
            "Accuracy: 0.9555555555555556\n",
            "Precision (macro): 0.9555555555555556\n",
            "Recall (macro): 0.9487179487179488\n",
            "F1 Score (macro): 0.9484126984126983\n"
          ]
        }
      ]
    }
  ]
}