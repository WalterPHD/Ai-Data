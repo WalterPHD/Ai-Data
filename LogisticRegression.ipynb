{
  "nbformat": 4,
  "nbformat_minor": 0,
  "metadata": {
    "colab": {
      "provenance": [],
      "authorship_tag": "ABX9TyNTFKtzjtBo03akxUxEM01b",
      "include_colab_link": true
    },
    "kernelspec": {
      "name": "python3",
      "display_name": "Python 3"
    },
    "language_info": {
      "name": "python"
    }
  },
  "cells": [
    {
      "cell_type": "markdown",
      "metadata": {
        "id": "view-in-github",
        "colab_type": "text"
      },
      "source": [
        "<a href=\"https://colab.research.google.com/github/WalterPHD/Ai-Data/blob/main/LogisticRegression.ipynb\" target=\"_parent\"><img src=\"https://colab.research.google.com/assets/colab-badge.svg\" alt=\"Open In Colab\"/></a>"
      ]
    },
    {
      "cell_type": "markdown",
      "source": [
        "# Scratch code"
      ],
      "metadata": {
        "id": "Rt1iK2xM8LK4"
      }
    },
    {
      "cell_type": "code",
      "execution_count": null,
      "metadata": {
        "id": "SQkRldtdwdyJ"
      },
      "outputs": [],
      "source": [
        "class ScratchLogisticRegression():\n",
        "  def __init__(self, num_iter, lr, bias, verbose, lam):\n",
        "    self.num_iter = num_iter\n",
        "    self.lr = lr\n",
        "    self.bias = bias\n",
        "    self.verbose = verbose\n",
        "    self.lam = lam\n",
        "    self.theta = np.array([])\n",
        "    self.loss = np.array([])\n",
        "    self.val_loss = np.array([])\n",
        "\n",
        "def fit(self, X_train, y_train, X_val = None, y_val = None):\n",
        "  \"\"\n",
        "\"train\"\n",
        "\"\"\n",
        "pass\n",
        "\n",
        "def _gradient_descent(self, X, y):\n",
        "  \"\"\n",
        "\"Θ update (steepest descent method)\"\n",
        "\"\"\n",
        "pass\n",
        "\n",
        "def _sigmoid(self, y):\n",
        "  \"\"\n",
        "\"sigmoidfunction\"\n",
        "\"\"\n",
        "pass\n",
        "\n",
        "def _logistic_hypothesis(self, X):\n",
        "  \"\"\n",
        "\"Hypothetical function\"\n",
        "\"\"\n",
        "pass\n",
        "\n",
        "def predict(self, X):\n",
        "  \"\"\n",
        "\"predict\"\n",
        "\"\"\n",
        "pass\n",
        "\n",
        "def predict_proba(self, X):\n",
        "  \"\"\n",
        "\"probabilistic prediction \"\n",
        "\"\"\n",
        "pass\n",
        "\n",
        "def _loss_func(self, pred, y):\n",
        "  \"\"\n",
        "\"cross entropy error function\"\n",
        "\"\"\n",
        "pass"
      ]
    },
    {
      "cell_type": "markdown",
      "source": [
        "# Creating Functions"
      ],
      "metadata": {
        "id": "0Vh14ryI89Ej"
      }
    },
    {
      "cell_type": "code",
      "source": [
        "def _sigmoid(self, y):\n",
        "    return 1 / (1 + np.exp(-y))\n",
        "\n",
        "\n",
        "def _logistic_hypothesis(self, X):\n",
        "    pred = X @ self.theta\n",
        "    pred = self._sigmoid(pred)\n",
        "    return pred"
      ],
      "metadata": {
        "id": "0OjSEgOu85Cx"
      },
      "execution_count": null,
      "outputs": []
    },
    {
      "cell_type": "markdown",
      "source": [
        "function with L2 regularization focus"
      ],
      "metadata": {
        "id": "kuZJdUdd9efp"
      }
    },
    {
      "cell_type": "code",
      "source": [
        "def _gradient_descent(self, X, y):\n",
        "    m = X.shape[0]\n",
        "    n = X.shape[1]\n",
        "    pred = self._logistic_hypothesis(X)\n",
        "    for j in range(n):\n",
        "        gradient = 0\n",
        "        for i in range(m):\n",
        "            gradient += (pred[i] - y[i]) * X[i, j]\n",
        "        self.theta[j] = self.theta[j] - self.lr * (\n",
        "            (gradient + self.lam * self.theta[j]) / m\n",
        "        )"
      ],
      "metadata": {
        "id": "NdbH6dcb9h3O"
      },
      "execution_count": null,
      "outputs": []
    },
    {
      "cell_type": "markdown",
      "source": [
        "functionn for prediction"
      ],
      "metadata": {
        "id": "vOab2p2Q9x90"
      }
    },
    {
      "cell_type": "code",
      "source": [
        "def predict_proba(self, X):\n",
        "    if self.bias == True:\n",
        "        a = np.ones(X.shape[0]).reshape(X.shape[0], 1)\n",
        "        X = np.hstack([a, X])\n",
        "    pred = self._logistic_hypothesis(X)\n",
        "    return pred"
      ],
      "metadata": {
        "id": "7QDF-a6U937M"
      },
      "execution_count": null,
      "outputs": []
    },
    {
      "cell_type": "code",
      "source": [
        "def _loss_func(self, pred, y):\n",
        "    error = 0\n",
        "    for i in range(y.shape[0]):\n",
        "        error += -np.sum(y[i] * np.log(pred[i]) + (1 - y[i]) * np.log(1 - pred[i]))\n",
        "    loss = error / (y.shape[0])\n",
        "    loss = loss + np.sum(self.theta**2) * self.lam / (2 * y.shape[0])\n",
        "    return loss"
      ],
      "metadata": {
        "id": "0hB86Tbb-Y3y"
      },
      "execution_count": null,
      "outputs": []
    },
    {
      "cell_type": "markdown",
      "source": [
        "visualization"
      ],
      "metadata": {
        "id": "NsXs2UV0-9kQ"
      }
    },
    {
      "cell_type": "code",
      "source": [
        "def decision_region(X, y, slr):\n",
        "    mesh_f0, mesh_f1 = np.meshgrid(\n",
        "        np.arange(np.min(X[:, 0]), np.max(X[:, 0]), 0.01),\n",
        "        np.arange(np.min(X[:, 1]), np.max(X[:, 1]), 0.01),\n",
        "    )\n",
        "    mesh = np.c_[np.ravel(mesh_f0), np.ravel(mesh_f1)]\n",
        "    y_pred = slr.predict(mesh).reshape(mesh_f0.shape)\n",
        "    plt.title(\"decision region\")\n",
        "    plt.xlabel(\"feature0\")\n",
        "    plt.ylabel(\"feature1\")\n",
        "    plt.contourf(mesh_f0, mesh_f1, y_pred, cmap=ListedColormap([\"pink\", \"skyblue\"]))\n",
        "    plt.contour(mesh_f0, mesh_f1, y_pred, colors=\"red\")\n",
        "    plt.scatter(X[y == 0][:, 0], X[y == 0][:, 1], label=\"0\")\n",
        "    plt.scatter(X[y == 1][:, 0], X[y == 1][:, 1], label=\"1\")\n",
        "    plt.legend()\n",
        "    plt.show()"
      ],
      "metadata": {
        "id": "iuT3fHCu-_eV"
      },
      "execution_count": null,
      "outputs": []
    },
    {
      "cell_type": "markdown",
      "source": [
        "# Assignment Scratch Lositic Regression"
      ],
      "metadata": {
        "id": "P1GyYFNc_CIP"
      }
    },
    {
      "cell_type": "markdown",
      "source": [
        "# Problem 1 Hypothetical Function"
      ],
      "metadata": {
        "id": "t8KJoZ7t_O3F"
      }
    },
    {
      "cell_type": "markdown",
      "source": [
        "Please implement the method of logistic regression assumption function in ScratchLogisticRegression class.\n",
        "\n",
        "The assumed function for logistic regression is the assumed function for linear regression passed through the Sigmoid function. The sigmoid function is represented by the following equation\n",
        "\n",
        "g​ ​(z)​ ​=​ ​1​ ​1​ ​+​ ​e-zg(z)=11+e−z"
      ],
      "metadata": {
        "id": "4JodFvLLBvL9"
      }
    },
    {
      "cell_type": "code",
      "source": [
        "def _sigmoid(self, z):\n",
        "        return 1 / (1 + np.exp(-z))\n"
      ],
      "metadata": {
        "id": "I3IkviEtGAAj"
      },
      "execution_count": null,
      "outputs": []
    },
    {
      "cell_type": "markdown",
      "source": [
        "# Problem 2 Steepest Decent"
      ],
      "metadata": {
        "id": "pOS73XdRB2zx"
      }
    },
    {
      "cell_type": "markdown",
      "source": [
        "Implement the steepest descent method for learning. Add a method _gradient_descent that updates the parameters as shown in the following equation, and call it from the fit method."
      ],
      "metadata": {
        "id": "6H1O0fu2B5z9"
      }
    },
    {
      "cell_type": "code",
      "source": [
        "def _gradient_descent(self, X, y):\n",
        "        m, n = X.shape\n",
        "        pred = self._logistic_hypothesis(X)\n",
        "        for j in range(n):\n",
        "            gradient = 0\n",
        "            for i in range(m):\n",
        "                gradient += (pred[i] - y[i]) * X[i, j]\n",
        "            # Regularize all parameters including theta_0 since no bias term here\n",
        "            reg_term = self.lam * self.theta[j]\n",
        "            self.theta[j] = self.theta[j] - self.lr * ((gradient + reg_term) / m)\n"
      ],
      "metadata": {
        "id": "e0onD9aDISpi"
      },
      "execution_count": null,
      "outputs": []
    },
    {
      "cell_type": "markdown",
      "source": [
        "# Problem 3 Estimated"
      ],
      "metadata": {
        "id": "0ye4snmKB9r3"
      }
    },
    {
      "cell_type": "markdown",
      "source": [
        "Please implement the estimation mechanism. Add to the predict method and predict_proba method included in the template of ScratchLogisticRegression class.\n",
        "\n",
        "The output of the hypothetical function $h_\\theta(x)$ is the return value of predict_proba, and the return value of predict is a threshold value labeled 1 and 0."
      ],
      "metadata": {
        "id": "L8Y_qi3rCCG-"
      }
    },
    {
      "cell_type": "code",
      "source": [
        "def _logistic_hypothesis(self, X):\n",
        "        return self._sigmoid(X @ self.theta)"
      ],
      "metadata": {
        "id": "TXZC4-TAKvuZ"
      },
      "execution_count": null,
      "outputs": []
    },
    {
      "cell_type": "code",
      "source": [
        "def predict_proba(self, X):\n",
        "        return self._logistic_hypothesis(X)\n"
      ],
      "metadata": {
        "id": "JzR9R3t7JbVa"
      },
      "execution_count": null,
      "outputs": []
    },
    {
      "cell_type": "code",
      "source": [
        "def predict(self, X):\n",
        "        proba = self.predict_proba(X)\n",
        "        return (proba >= 0.5).astype(int)\n"
      ],
      "metadata": {
        "id": "5z8CrPU_JmQ1"
      },
      "execution_count": null,
      "outputs": []
    },
    {
      "cell_type": "markdown",
      "source": [
        "# Problem 4 Objective Function\n"
      ],
      "metadata": {
        "id": "aNniKHI3CFtN"
      }
    },
    {
      "cell_type": "markdown",
      "source": [
        "Implement the Objective function (loss function) of the logistic regression expressed in the following formula And make sure that this is recorded inself.loss, self.val_loss .\n",
        "\n"
      ],
      "metadata": {
        "id": "OAc8CmenCIbN"
      }
    },
    {
      "cell_type": "code",
      "source": [
        "def fit(self, X, y, X_val=None, y_val=None):\n",
        "    \"\"\"\n",
        "    Train the logistic regression model using gradient descent.\n",
        "    Records training and validation loss per iteration.\n",
        "    \"\"\"\n",
        "\n",
        "    if self.bias:\n",
        "        X = np.c_[np.ones(X.shape[0]), X]\n",
        "        if X_val is not None:\n",
        "            X_val = np.c_[np.ones(X_val.shape[0]), X_val]\n",
        "\n",
        "    self.theta = np.zeros(X.shape[1])\n",
        "\n",
        "    for i in range(self.iter):\n",
        "        # Update parameters using gradient descent\n",
        "        self._gradient_descent(X, y)\n",
        "\n",
        "        # Compute and record training loss\n",
        "        self.loss[i] = self._compute_loss(X, y)\n",
        "\n",
        "        # Compute and record validation loss if validation data provided\n",
        "        if X_val is not None and y_val is not None:\n",
        "            self.val_loss[i] = self._compute_loss(X_val, y_val)\n",
        "\n",
        "        # Verbose output to track training progress\n",
        "        if self.verbose:\n",
        "            msg = f\"Iter {i+1}/{self.iter} - Train Loss: {self.loss[i]:.4f}\"\n",
        "            if X_val is not None and y_val is not None:\n",
        "                msg += f\" - Val Loss: {self.val_loss[i]:.4f}\"\n",
        "            print(msg)\n"
      ],
      "metadata": {
        "id": "-a32pFODKzj3"
      },
      "execution_count": null,
      "outputs": []
    },
    {
      "cell_type": "code",
      "metadata": {
        "id": "487764b9"
      },
      "source": [
        "from sklearn.preprocessing import StandardScaler\n",
        "\n",
        "scaler = StandardScaler()\n",
        "X_train_scaled = scaler.fit_transform(X_train)\n",
        "X_test_scaled = scaler.transform(X_test)"
      ],
      "execution_count": 40,
      "outputs": []
    },
    {
      "cell_type": "markdown",
      "source": [
        "# Compiled code"
      ],
      "metadata": {
        "id": "GCoIIQVCK0FE"
      }
    },
    {
      "cell_type": "code",
      "source": [
        "import numpy as np\n",
        "import matplotlib.pyplot as plt\n",
        "\n",
        "\n",
        "class ScratchLogisticRegression():\n",
        "    \"\"\"\n",
        "    Scratch implementation of logistic regression\n",
        "\n",
        "    Parameters\n",
        "    ----------\n",
        "    num_iter : int\n",
        "      Number of iterations\n",
        "    lr : float\n",
        "      Learning rate\n",
        "    lam : float\n",
        "      Regularization strength (lambda)\n",
        "    verbose : bool\n",
        "      True to output the learning process\n",
        "    bias: bool\n",
        "      True to include bias term\n",
        "\n",
        "    Attributes\n",
        "    ----------\n",
        "    self.theta : ndarray, shape (n_features,)\n",
        "      Parameters (weights)\n",
        "    self.loss : ndarray, shape (self.iter,)\n",
        "      Record losses on training data\n",
        "    self.val_loss : ndarray, shape (self.iter,)\n",
        "      Record loss on validation data\n",
        "    \"\"\"\n",
        "\n",
        "    def __init__(self, num_iter, lr, lam=0.0, verbose=False, bias=True):\n",
        "        self.iter = num_iter\n",
        "        self.lr = lr\n",
        "        self.lam = lam\n",
        "        self.verbose = verbose\n",
        "        self.bias = bias\n",
        "        self.loss = np.zeros(self.iter)\n",
        "        self.val_loss = np.zeros(self.iter)\n",
        "\n",
        "\n",
        "    def _sigmoid(self, z):\n",
        "        return 1 / (1 + np.exp(-z))\n",
        "\n",
        "    def _logistic_hypothesis(self, X):\n",
        "        return self._sigmoid(X @ self.theta)\n",
        "\n",
        "    def _compute_loss(self, X, y):\n",
        "        m = X.shape[0]\n",
        "        pred = self._logistic_hypothesis(X)\n",
        "        eps = 1e-15\n",
        "        pred = np.clip(pred, eps, 1 - eps)\n",
        "        loss = - (y * np.log(pred) + (1 - y) * np.log(1 - pred)).mean()\n",
        "        # Exclude bias term from regularization\n",
        "        reg = (self.lam / (2 * m)) * np.sum(self.theta[1:] ** 2) if self.bias else (self.lam / (2 * m)) * np.sum(self.theta ** 2)\n",
        "        return loss + reg\n",
        "\n",
        "\n",
        "    def _gradient_descent(self, X, y):\n",
        "        m, n = X.shape\n",
        "        pred = self._logistic_hypothesis(X)\n",
        "        for j in range(n):\n",
        "            gradient = 0\n",
        "            for i in range(m):\n",
        "                gradient += (pred[i] - y[i]) * X[i, j]\n",
        "            # Regularize all parameters including theta_0 if no bias term, otherwise exclude theta_0\n",
        "            reg_term = self.lam * self.theta[j] if (not self.bias or j != 0) else 0\n",
        "            self.theta[j] = self.theta[j] - self.lr * ((gradient + reg_term) / m)\n",
        "\n",
        "\n",
        "    def fit(self, X, y, X_val=None, y_val=None):\n",
        "        \"\"\"\n",
        "        Train the logistic regression model using gradient descent.\n",
        "        Records training and validation loss per iteration.\n",
        "        \"\"\"\n",
        "        if self.bias:\n",
        "            X = np.c_[np.ones(X.shape[0]), X]\n",
        "            if X_val is not None:\n",
        "                X_val = np.c_[np.ones(X_val.shape[0]), X_val]\n",
        "\n",
        "        self.theta = np.zeros(X.shape[1])\n",
        "\n",
        "        for i in range(self.iter):\n",
        "            # Update parameters using gradient descent\n",
        "            self._gradient_descent(X, y)\n",
        "\n",
        "            # Compute and record training loss\n",
        "            self.loss[i] = self._compute_loss(X, y)\n",
        "\n",
        "            # Compute and record validation loss if validation data provided\n",
        "            if X_val is not None and y_val is not None:\n",
        "                self.val_loss[i] = self._compute_loss(X_val, y_val)\n",
        "\n",
        "            # Verbose output to track training progress\n",
        "            if self.verbose:\n",
        "                msg = f\"Iter {i+1}/{self.iter} - Train Loss: {self.loss[i]:.4f}\"\n",
        "                if X_val is not None and y_val is not None:\n",
        "                    msg += f\" - Val Loss: {self.val_loss[i]:.4f}\"\n",
        "                print(msg)\n",
        "\n",
        "\n",
        "    def predict_proba(self, X):\n",
        "        if self.bias:\n",
        "            X = np.c_[np.ones(X.shape[0]), X]\n",
        "        return self._logistic_hypothesis(X)\n",
        "\n",
        "    def predict(self, X):\n",
        "        proba = self.predict_proba(X)\n",
        "        return (proba >= 0.5).astype(int)"
      ],
      "metadata": {
        "id": "QYb9W3uLEEZS"
      },
      "execution_count": 23,
      "outputs": []
    },
    {
      "cell_type": "markdown",
      "source": [
        "# Problem 5 Learning and Estimation"
      ],
      "metadata": {
        "id": "T4dJv0tSCOQc"
      }
    },
    {
      "cell_type": "markdown",
      "source": [
        "Learn and estimate the scratch implementation for the binary classification of virgicolor and virginica in the iris data set provided in the Introduction to Scratch Machine Learning Sprint.\n",
        "\n"
      ],
      "metadata": {
        "id": "DLQuMP4XCqao"
      }
    },
    {
      "cell_type": "code",
      "source": [
        "import numpy as np\n",
        "from sklearn.datasets import load_iris\n",
        "from sklearn.model_selection import train_test_split\n",
        "from sklearn.linear_model import LogisticRegression as SklearnLogistic\n",
        "from sklearn.metrics import accuracy_score, precision_score, recall_score\n",
        "\n",
        "\n",
        "# Load Iris dataset\n",
        "iris = load_iris()\n",
        "X = iris.data\n",
        "y = iris.target\n",
        "\n",
        "# Filter to keep only versicolor (1) and virginica (2)\n",
        "binary_mask = (y == 1) | (y == 2)\n",
        "X_binary = X[binary_mask]\n",
        "y_binary = y[binary_mask]\n",
        "\n",
        "# Convert labels: versicolor -> 0, virginica -> 1\n",
        "y_binary = (y_binary == 2).astype(int)\n",
        "\n",
        "# Split dataset into train and test sets\n",
        "X_train, X_test, y_train, y_test = train_test_split(\n",
        "    X_binary, y_binary, test_size=0.3, random_state=42, stratify=y_binary\n",
        ")\n",
        "\n",
        "# Initialize and train your ScratchLogisticRegression\n",
        "scratch_model = ScratchLogisticRegression(num_iter=1000, lr=0.1, lam=0.01, verbose=False)\n",
        "scratch_model.fit(X_train, y_train)\n",
        "\n",
        "# Predict on test set\n",
        "y_pred_scratch = scratch_model.predict(X_test)\n",
        "\n",
        "# Train scikit-learn logistic regression for comparison\n",
        "sklearn_model = SklearnLogistic(max_iter=1000)\n",
        "sklearn_model.fit(X_train, y_train)\n",
        "y_pred_sklearn = sklearn_model.predict(X_test)\n",
        "\n",
        "# Evaluate performance\n",
        "print(\"Scratch Logistic Regression:\")\n",
        "print(\"Accuracy:\", accuracy_score(y_test, y_pred_scratch))\n",
        "print(\"Precision:\", precision_score(y_test, y_pred_scratch))\n",
        "print(\"Recall:\", recall_score(y_test, y_pred_scratch))\n",
        "\n",
        "print(\"\\nScikit-learn Logistic Regression:\")\n",
        "print(\"Accuracy:\", accuracy_score(y_test, y_pred_sklearn))\n",
        "print(\"Precision:\", precision_score(y_test, y_pred_sklearn))\n",
        "print(\"Recall:\", recall_score(y_test, y_pred_sklearn))\n"
      ],
      "metadata": {
        "colab": {
          "base_uri": "https://localhost:8080/"
        },
        "id": "rjh0cbpBOzbQ",
        "outputId": "adb12acf-4431-475f-8a46-1b52839acc9b"
      },
      "execution_count": 24,
      "outputs": [
        {
          "output_type": "stream",
          "name": "stdout",
          "text": [
            "Scratch Logistic Regression:\n",
            "Accuracy: 0.9333333333333333\n",
            "Precision: 0.8823529411764706\n",
            "Recall: 1.0\n",
            "\n",
            "Scikit-learn Logistic Regression:\n",
            "Accuracy: 0.9333333333333333\n",
            "Precision: 1.0\n",
            "Recall: 0.8666666666666667\n"
          ]
        }
      ]
    },
    {
      "cell_type": "markdown",
      "source": [
        "**Both have equal accuracy, so overall performance is similar.**\n",
        "\n",
        "*Scratch LR:*\n",
        "\n",
        "More tolerant to false positives (lower precision 0.88)\n",
        "\n",
        "Catches all positives (recall 1.0)\n",
        "\n",
        "*Scikit-learn LR:*\n",
        "\n",
        "Perfect precision (no false positives)\n",
        "\n",
        "Misses some positives (recall 0.87)"
      ],
      "metadata": {
        "id": "4AUzZETFPYec"
      }
    },
    {
      "cell_type": "markdown",
      "source": [
        "# Problem 6 Plot of Learning Curve"
      ],
      "metadata": {
        "id": "IDjOdM0BCts5"
      }
    },
    {
      "cell_type": "markdown",
      "source": [
        "Look at the learning curve to see if the losses are falling properly."
      ],
      "metadata": {
        "id": "E2ZH5pRrCzUH"
      }
    },
    {
      "cell_type": "code",
      "source": [
        "model.fit(X_train, y_train, X_val=X_test, y_val=y_test)\n",
        "\n",
        "import matplotlib.pyplot as plt\n",
        "%matplotlib inline\n",
        "\n",
        "plt.figure(figsize=(8, 5))\n",
        "plt.title('Learning Curve')\n",
        "plt.xlabel('Iteration')\n",
        "plt.ylabel('Loss')\n",
        "plt.scatter(range(model.iter), model.loss, label='Train Loss', color='blue', s=10)\n",
        "plt.scatter(range(model.iter), model.val_loss, label='Validation Loss', color='orange', s=10)\n",
        "plt.legend()\n",
        "plt.grid(True)\n",
        "plt.show()\n"
      ],
      "metadata": {
        "colab": {
          "base_uri": "https://localhost:8080/",
          "height": 487
        },
        "id": "Xyfwutlzd7nF",
        "outputId": "d089e6f0-dfe3-4069-9e7c-c3be0f4697f1"
      },
      "execution_count": 25,
      "outputs": [
        {
          "output_type": "display_data",
          "data": {
            "text/plain": [
              "<Figure size 800x500 with 1 Axes>"
            ],
            "image/png": "[encoded data removed]"
          },
          "metadata": {}
        }
      ]
    },
    {
      "cell_type": "markdown",
      "source": [
        "# Problem 7 Visualization of Decision area"
      ],
      "metadata": {
        "id": "VTiW8U-4C3TB"
      }
    },
    {
      "cell_type": "markdown",
      "source": [
        "Visualize the decision region. The following is a reference diagram. It is drawn with sepal width on the horizontal axis and petal length on the vertical axis."
      ],
      "metadata": {
        "id": "iZ-gIQx6C_QX"
      }
    },
    {
      "cell_type": "code",
      "source": [
        "import matplotlib.pyplot as plt\n",
        "from matplotlib.colors import ListedColormap\n",
        "import matplotlib.patches as mpatches\n",
        "\n",
        "def decision_region(X, y, model, step=0.01, title='decision region', xlabel='xlabel', ylabel='ylabel', target_names=['versicolor', 'virginica']):\n",
        "    \"\"\"\n",
        "    Draw the determination area of the model that learned binary classification with two-dimensional features.\n",
        "    The background color is drawn from the estimated values of the trained model.\n",
        "    The points on the scatter plot are training or validation data.\n",
        "    Parameters\n",
        "    ----------------\n",
        "    X : ndarray, shape(n_samples, 2)\n",
        "        Feature value\n",
        "    y : ndarray, shape(n_samples,)\n",
        "        label\n",
        "    model : object\n",
        "        Insert the installed model of the learned model\n",
        "    step : float, (default : 0.1)\n",
        "        Set the interval to calculate the estimate\n",
        "    title : str\n",
        "        Give the text of the graph Title\n",
        "    xlabel, ylabel : str\n",
        "        Give the text of the axis label\n",
        "    target_names= : list of str\n",
        "        Give a list of legends\n",
        "    \"\"\"\n",
        "    # setting\n",
        "    scatter_color = ['red', 'blue']\n",
        "    contourf_color = ['pink', 'skyblue']\n",
        "    n_class = 2\n",
        "    # pred\n",
        "    mesh_f0, mesh_f1  = np.meshgrid(np.arange(np.min(X[:,0])-0.5, np.max(X[:,0])+0.5, step), np.arange(np.min(X[:,1])-0.5, np.max(X[:,1])+0.5, step))\n",
        "    mesh = np.c_[np.ravel(mesh_f0),np.ravel(mesh_f1)]\n",
        "    y_pred = model.predict(mesh).reshape(mesh_f0.shape)\n",
        "    # plot\n",
        "    plt.title(title)\n",
        "    plt.xlabel(xlabel)\n",
        "    plt.ylabel(ylabel)\n",
        "    plt.contourf(mesh_f0, mesh_f1, y_pred, n_class-1, cmap=ListedColormap(contourf_color))\n",
        "    plt.contour(mesh_f0, mesh_f1, y_pred, n_class-1, colors='y', linewidths=3, alpha=0.5)\n",
        "    for i, target in enumerate(set(y)):\n",
        "        plt.scatter(X[y==target][:, 0], X[y==target][:, 1], s=80, color=scatter_color[i], label=target_names[i], marker='o')\n",
        "    patches = [mpatches.Patch(color=scatter_color[i], label=target_names[i]) for i in range(n_class)]\n",
        "    plt.legend(handles=patches)\n",
        "    plt.legend()\n",
        "    plt.show()"
      ],
      "metadata": {
        "id": "wYSODUwGipaQ"
      },
      "execution_count": 38,
      "outputs": []
    },
    {
      "cell_type": "code",
      "metadata": {
        "collapsed": true,
        "id": "30755618"
      },
      "source": [
        "slr = ScratchLogisticRegression(num_iter=1000, lr=0.01, lam=0.1, verbose=True)\n",
        "slr.fit(X_train_scaled, y_train, X_test_scaled, y_test)"
      ],
      "execution_count": null,
      "outputs": []
    },
    {
      "cell_type": "code",
      "source": [
        "decision_region(X_train_scaled, y_train, slr)"
      ],
      "metadata": {
        "colab": {
          "base_uri": "https://localhost:8080/",
          "height": 472
        },
        "id": "QM-sKwY9iucH",
        "outputId": "6497442f-2b53-4bd9-9c96-23698269b2a1"
      },
      "execution_count": 44,
      "outputs": [
        {
          "output_type": "display_data",
          "data": {
            "text/plain": [
              "<Figure size 640x480 with 1 Axes>"
            ],
            "image/png": "[encoded data removed]"
          },
          "metadata": {}
        }
      ]
    },
    {
      "cell_type": "code",
      "source": [
        "slr2 = ScratchLogisticRegression(num_iter=1000, lr=0.1, lam=100, verbose=True)\n",
        "slr2.fit(X_train_scaled, y_train, X_test_scaled, y_test)"
      ],
      "metadata": {
        "collapsed": true,
        "id": "wRG0w8VVk4RD"
      },
      "execution_count": null,
      "outputs": []
    },
    {
      "cell_type": "markdown",
      "source": [
        "increased lam"
      ],
      "metadata": {
        "id": "EBOuP8nRly4p"
      }
    },
    {
      "cell_type": "code",
      "source": [
        "decision_region(X_train_scaled, y_train, slr2)"
      ],
      "metadata": {
        "colab": {
          "base_uri": "https://localhost:8080/",
          "height": 472
        },
        "id": "wm3t47FHk_xE",
        "outputId": "ea7d7402-11ee-4ff0-957a-e4614ef166cc"
      },
      "execution_count": 55,
      "outputs": [
        {
          "output_type": "display_data",
          "data": {
            "text/plain": [
              "<Figure size 640x480 with 1 Axes>"
            ],
            "image/png": "[encoded data removed]"
          },
          "metadata": {}
        }
      ]
    },
    {
      "cell_type": "code",
      "source": [
        "slr3 = ScratchLogisticRegression(num_iter=1000, lr=1.5, lam=0.1, verbose=True)\n",
        "slr3.fit(X_train_scaled, y_train, X_test_scaled, y_test)"
      ],
      "metadata": {
        "collapsed": true,
        "id": "qIzjxMKUljye"
      },
      "execution_count": null,
      "outputs": []
    },
    {
      "cell_type": "markdown",
      "source": [
        "increased lr"
      ],
      "metadata": {
        "id": "O65TAkODlvbZ"
      }
    },
    {
      "cell_type": "code",
      "source": [
        "decision_region(X_train_scaled, y_train, slr3)"
      ],
      "metadata": {
        "colab": {
          "base_uri": "https://localhost:8080/",
          "height": 472
        },
        "id": "0XaC2lEzlp__",
        "outputId": "baec5e27-9cd4-46fc-f212-34c1fd0b8608"
      },
      "execution_count": 59,
      "outputs": [
        {
          "output_type": "display_data",
          "data": {
            "text/plain": [
              "<Figure size 640x480 with 1 Axes>"
            ],
            "image/png": "[encoded data removed]"
          },
          "metadata": {}
        }
      ]
    },
    {
      "cell_type": "markdown",
      "source": [
        "# Problem 8 Saving weights"
      ],
      "metadata": {
        "id": "pLRFMeCQDAEF"
      }
    },
    {
      "cell_type": "markdown",
      "source": [
        "Let’s save and load the learned weights for easy verification. Use the pickle module and NumPy’s np.savez."
      ],
      "metadata": {
        "id": "LEHH4jJzDFz-"
      }
    },
    {
      "cell_type": "code",
      "source": [
        "import pickle\n",
        "\n",
        "# Save learned weights (theta)\n",
        "def save_weights(model, filename='weights.pkl'):\n",
        "    with open(filename, 'wb') as f:\n",
        "        pickle.dump(model.theta, f)\n",
        "\n",
        "# Load learned weights (theta)\n",
        "def load_weights(model, filename='weights.pkl'):\n",
        "    with open(filename, 'rb') as f:\n",
        "        model.theta = pickle.load(f)\n"
      ],
      "metadata": {
        "id": "pPZMedh6DHwO"
      },
      "execution_count": 46,
      "outputs": []
    },
    {
      "cell_type": "code",
      "source": [
        "save_weights(model, 'my_weights.pkl')\n",
        "\n",
        "# Later or elsewhere\n",
        "load_weights(model, 'my_weights.pkl')\n"
      ],
      "metadata": {
        "id": "oKgZ_t96j3z5"
      },
      "execution_count": 47,
      "outputs": []
    }
  ]
}