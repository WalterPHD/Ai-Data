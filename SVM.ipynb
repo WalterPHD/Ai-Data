{
  "nbformat": 4,
  "nbformat_minor": 0,
  "metadata": {
    "colab": {
      "provenance": [],
      "authorship_tag": "ABX9TyOG68s/Ht5z652aDI79jiUN",
      "include_colab_link": true
    },
    "kernelspec": {
      "name": "python3",
      "display_name": "Python 3"
    },
    "language_info": {
      "name": "python"
    }
  },
  "cells": [
    {
      "cell_type": "markdown",
      "metadata": {
        "id": "view-in-github",
        "colab_type": "text"
      },
      "source": [
        "<a href=\"https://colab.research.google.com/github/WalterPHD/Ai-Data/blob/main/SVM.ipynb\" target=\"_parent\"><img src=\"https://colab.research.google.com/assets/colab-badge.svg\" alt=\"Open In Colab\"/></a>"
      ]
    },
    {
      "cell_type": "markdown",
      "source": [
        "# Scratch SVM code"
      ],
      "metadata": {
        "id": "OTjfGTpXjksD"
      }
    },
    {
      "cell_type": "code",
      "execution_count": null,
      "metadata": {
        "id": "iyx-3wd4mQuu"
      },
      "outputs": [],
      "source": [
        "class ScratchSVMClassifier():\n",
        "    \"\"\"\n",
        "    Scratch implementation of SVM classifier\n",
        "\n",
        "    Parameters\n",
        "    ----------\n",
        "    num_iter : int\n",
        "      Number of iterations\n",
        "    lr : float\n",
        "      Learning rate\n",
        "    kernel : str\n",
        "      Kernel type. Linear kernel (linear) or polynomial kernel (polly)\n",
        "    threshold : float\n",
        "      Threshold for choosing a support vector\n",
        "    verbose : bool\n",
        "      True to output the learning process\n",
        "\n",
        "    Attributes\n",
        "    ----------\n",
        "    self.n_support_vectors : int\n",
        "      Number of support vectors\n",
        "    self.index_support_vectors : The following form of ndarray, shape (n_support_vectors,)\n",
        "      Support vector index\n",
        "    self.X_sv :  The following forms of ndarray, shape (n_support_vectors, n_features)\n",
        "      Support vector features\n",
        "    self.lam_sv :  The following forms of ndarray, shape (n_support_vectors, 1)\n",
        "      Support vector undetermined multiplier\n",
        "    self.y_sv :  The following forms of ndarray, shape (n_support_vectors, 1)\n",
        "      Support vector label\n",
        "\n",
        "    \"\"\"\n",
        "\n",
        "    def __init__(self, num_iter, lr, kernel='linear', threshold=1e-5, verbose=False):\n",
        "        # Record hyperparameters as attributes\n",
        "        self.iter = num_iter\n",
        "        self.lr = lr\n",
        "        self.kernel = kernel\n",
        "        self.threshold = threshold\n",
        "        self.verbose = verbose\n",
        "\n",
        "    def fit(self, X, y, X_val=None, y_val=None):\n",
        "        \"\"\"\n",
        "        Learn the SVM classifier. If verification data is input, the accuracy for it is also calculated for each iteration.\n",
        "\n",
        "        Parameters\n",
        "        ----------\n",
        "        X : of the following form. ndarray, shape (n_samples, n_features)\n",
        "            Features of training data\n",
        "        y : The following form of ndarray, shape (n_samples,)\n",
        "            Correct answer value of training data\n",
        "        X_val : of the following form. ndarray, shape (n_samples, n_features)\n",
        "            Features of verification data\n",
        "        y_val : The following form of ndarray, shape (n_samples,)\n",
        "            Correct value of verification data\n",
        "        \"\"\"\n",
        "\n",
        "        if self.verbose:\n",
        "            Output the learning process when #verbose is set to True\n",
        "            print()\n",
        "        pass\n",
        "\n",
        "    def predict(self, X):\n",
        "        \"\"\"\n",
        "        Estimate the label using the SVM classifier.\n",
        "\n",
        "        Parameters\n",
        "        ----------\n",
        "        X : of the following form. ndarray, shape (n_samples, n_features)\n",
        "            sample\n",
        "\n",
        "        Returns\n",
        "        -------\n",
        "            The following form of ndarray, shape (n_samples, 1)\n",
        "            Estimated result by SVM classifier\n",
        "        \"\"\"\n",
        "\n",
        "        pass\n",
        "        return"
      ]
    },
    {
      "cell_type": "markdown",
      "source": [
        "# Assingment"
      ],
      "metadata": {
        "id": "5KYR4mecjqd0"
      }
    },
    {
      "cell_type": "markdown",
      "source": [
        "# Problem 1 Lagrange’s steepest descent by the undetermined multiplier method"
      ],
      "metadata": {
        "id": "RSaP8bW4js4l"
      }
    },
    {
      "cell_type": "markdown",
      "source": [
        "Lagrange’s undetermined multiplier method is used for SVM learning. Prepare Lagrange multiplier $\\lambda$ for the number of samples and update it by the following formula. Implement the method that performs this calculation in the ScratchSVMClassifier class."
      ],
      "metadata": {
        "id": "br4xXzy6jzc3"
      }
    },
    {
      "cell_type": "code",
      "source": [],
      "metadata": {
        "id": "ULAwvZ6Sj3qS"
      },
      "execution_count": null,
      "outputs": []
    },
    {
      "cell_type": "markdown",
      "source": [
        "# Problem 2 Support vector determination"
      ],
      "metadata": {
        "id": "GAgLIc2Uj-0B"
      }
    },
    {
      "cell_type": "markdown",
      "source": [
        "A sample whose calculated Lagrange multiplier $ \\ lambda $ is larger than the Settings threshold is treated as a support vector. You will need a support vector when estimating. Write the code to determine the support vector and keep it as an instance variable.\n",
        "\n",
        "\n"
      ],
      "metadata": {
        "id": "yENHIKpWj-0C"
      }
    },
    {
      "cell_type": "code",
      "source": [],
      "metadata": {
        "id": "nZhnVUFoj-0D"
      },
      "execution_count": null,
      "outputs": []
    },
    {
      "cell_type": "markdown",
      "source": [
        "# Problem 3 Estimated"
      ],
      "metadata": {
        "id": "UyqGzau9kSqP"
      }
    },
    {
      "cell_type": "markdown",
      "source": [
        "At the time of estimation, the features of the data to be estimated and the features of the support vector are calculated using a kernel function. The sign of $f(x)$ obtained is the classification result.\n",
        "\n",
        "\n"
      ],
      "metadata": {
        "id": "M3NGrnigkSqP"
      }
    },
    {
      "cell_type": "code",
      "source": [],
      "metadata": {
        "id": "S6sm2J-ukSqQ"
      },
      "execution_count": null,
      "outputs": []
    },
    {
      "cell_type": "markdown",
      "source": [
        "# Problem 4 Learning and Estimmation"
      ],
      "metadata": {
        "id": "PnCb9X6AkTZj"
      }
    },
    {
      "cell_type": "markdown",
      "source": [
        "Learn and estimate the scratch implementation for the binary classification of Simple Dataset 1 prepared in the Sprint, an introduction to machine learning scratch.\n",
        "\n",
        "Compare this with the scikit-learn implementation and see if it works correctly.\n",
        "\n",
        "Use scikit-learn for indicator values such as Accuracy, Precision and Recall.\n",
        "\n",
        "\n"
      ],
      "metadata": {
        "id": "GpHSBxLVkTZk"
      }
    },
    {
      "cell_type": "code",
      "source": [],
      "metadata": {
        "id": "5pQW2vkkkTZk"
      },
      "execution_count": null,
      "outputs": []
    },
    {
      "cell_type": "markdown",
      "source": [
        "# Problem 5 Visualization of Decision Area"
      ],
      "metadata": {
        "id": "flINH_kXkUfN"
      }
    },
    {
      "cell_type": "markdown",
      "source": [
        "Visualise the decision area.\n",
        "\n",
        "Show support vectors in different colors as in the example below\n",
        "\n",
        "\n",
        "\n",
        "\n"
      ],
      "metadata": {
        "id": "hQH6pJLakUfO"
      }
    },
    {
      "cell_type": "code",
      "source": [],
      "metadata": {
        "id": "uIvHr1eckUfO"
      },
      "execution_count": null,
      "outputs": []
    },
    {
      "cell_type": "markdown",
      "source": [
        "# Problem 6 (Advance task) Creation of polynomial kernel function"
      ],
      "metadata": {
        "id": "sFMoPziWkUr_"
      }
    },
    {
      "cell_type": "markdown",
      "source": [
        "The first implementation I created used a linear kernel. Let’s also switch to the polynomial kernel.\n",
        "\n",
        "“Linear kernel formula”\n",
        "\n",
        "K​ ​(an unknown​ ​I,​ ​an unknown​ ​J)​ ​=​ ​an unknown​ ​t​ ​I​ ​an unknown​ ​JK(xi,xj)=xiTxj\n",
        "\n",
        "“Polynomial kernel formula”\n",
        "\n",
        "K​ ​(an unknown​ ​I,​ ​an unknown​ ​J)​ ​=​ ​(gamma​ ​an unknown​ ​t​ ​I​ ​an unknown​ ​J​ ​+​ ​theta​ ​0)​ ​dK(xi,xj)=(γxiTxj+θ0)d\n",
        "\n",
        "$\\gamma$, $\\theta_0$, $d$ are hyperparameters.\n",
        "\n",
        "\n"
      ],
      "metadata": {
        "id": "tDNGOS8fkUr_"
      }
    },
    {
      "cell_type": "code",
      "source": [],
      "metadata": {
        "id": "qJddIkeZk1OQ"
      },
      "execution_count": null,
      "outputs": []
    }
  ]
}