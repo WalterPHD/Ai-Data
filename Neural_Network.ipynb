{
  "nbformat": 4,
  "nbformat_minor": 0,
  "metadata": {
    "colab": {
      "provenance": [],
      "authorship_tag": "ABX9TyMAaY5Vil74ZIVFFldAYuN/",
      "include_colab_link": true
    },
    "kernelspec": {
      "name": "python3",
      "display_name": "Python 3"
    },
    "language_info": {
      "name": "python"
    }
  },
  "cells": [
    {
      "cell_type": "markdown",
      "metadata": {
        "id": "view-in-github",
        "colab_type": "text"
      },
      "source": [
        "<a href=\"https://colab.research.google.com/github/WalterPHD/Ai-Data/blob/main/Neural_Network.ipynb\" target=\"_parent\"><img src=\"https://colab.research.google.com/assets/colab-badge.svg\" alt=\"Open In Colab\"/></a>"
      ]
    },
    {
      "cell_type": "code",
      "execution_count": null,
      "metadata": {
        "id": "rxIsgzS20N1-"
      },
      "outputs": [],
      "source": [
        "class ScratchSimpleNeuralNetrowkClassifier:\n",
        "    def __init__(\n",
        "        self,\n",
        "        batch_size=20,\n",
        "        n_features=784,\n",
        "        n_nodes1=400,\n",
        "        n_nodes2=200,\n",
        "        n_output=10,\n",
        "        sigma=0.02,\n",
        "        lr=0.01,\n",
        "        epoch=10,\n",
        "        verbose=True,\n",
        "    ):\n",
        "        self.verbose = verbose\n",
        "        self.batch_size = batch_size\n",
        "        self.n_features = n_features\n",
        "        self.n_nodes1 = n_nodes1\n",
        "        self.n_nodes2 = n_nodes2\n",
        "        self.n_output = n_output\n",
        "        self.sigma = sigma\n",
        "        self.lr = lr\n",
        "        self.epoch = epoch\n",
        "        self.loss_train = []\n",
        "        self.loss_val = []\n",
        "\n",
        "    def fit(self, X, y, X_val=None, y_val=None):\n",
        "        pass\n",
        "\n",
        "    def forward(self, X):\n",
        "        pass\n",
        "\n",
        "    def backward(self, X, y):\n",
        "        pass\n",
        "\n",
        "    def tanh_function(self, A):\n",
        "        pass\n",
        "\n",
        "    def softmax(self, A):\n",
        "        pass\n",
        "\n",
        "    def cross_entropy_error(self, y, Z):\n",
        "        pass\n",
        "\n",
        "    def predict(self, X):\n",
        "        pass\n"
      ]
    }
  ]
}