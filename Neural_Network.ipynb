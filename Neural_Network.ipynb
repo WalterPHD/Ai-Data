{
  "cells": [
    {
      "cell_type": "markdown",
      "metadata": {
        "id": "view-in-github",
        "colab_type": "text"
      },
      "source": [
        "<a href=\"https://colab.research.google.com/github/WalterPHD/Ai-Data/blob/main/Neural_Network.ipynb\" target=\"_parent\"><img src=\"https://colab.research.google.com/assets/colab-badge.svg\" alt=\"Open In Colab\"/></a>"
      ]
    },
    {
      "cell_type": "code",
      "execution_count": 12,
      "metadata": {
        "id": "ySqWOoXrkZhs"
      },
      "outputs": [],
      "source": [
        "class ScratchSimpleNeuralNetrowkClassifier:\n",
        "    \"\"\"\n",
        "    Simple three-layer neural network classifier\n",
        "\n",
        "    Parameters\n",
        "    ----------\n",
        "\n",
        "    Attributes\n",
        "    ----------\n",
        "    \"\"\"\n",
        "\n",
        "    def __init__(self, verbose=True):\n",
        "        self.verbose = verbose\n",
        "        pass\n",
        "\n",
        "    def fit(self, X, y, X_val=None, y_val=None):\n",
        "        \"\"\"\n",
        "        Learn a neural network classifier.\n",
        "\n",
        "        Parameters\n",
        "        ----------\n",
        "        X : The following forms of ndarray, shape (n_samples, n_features)\n",
        "            Features of training data\n",
        "        y : The following form of ndarray, shape (n_samples,)\n",
        "            Correct answer value of training data\n",
        "        X_val : The following forms of ndarray, shape (n_samples, n_features)\n",
        "            Features of verification data\n",
        "        y_val : The following form of ndarray, shape (n_samples,)\n",
        "            Correct value of verification data\n",
        "        \"\"\"\n",
        "\n",
        "        if self.verbose:\n",
        "            When  # verbose is set to True, the learning process etc. is output.\n",
        "            print()\n",
        "        pass\n",
        "\n",
        "    def predict(self, X):\n",
        "        \"\"\"\n",
        "        Estimate using a neural network classifier.\n",
        "\n",
        "        Parameters\n",
        "        ----------\n",
        "        X : The following forms of ndarray, shape (n_samples, n_features)\n",
        "            sample\n",
        "\n",
        "        Returns\n",
        "        -------\n",
        "            The following form of ndarray, shape (n_samples, 1)\n",
        "            Estimated result\n",
        "        \"\"\"\n",
        "\n",
        "        pass\n",
        "        return"
      ]
    },
    {
      "cell_type": "code",
      "source": [
        "# Importing dependencies\n",
        "\n",
        "import numpy as np\n",
        "import pandas as pd\n",
        "import matplotlib.pyplot as plt\n",
        "%matplotlib inline\n",
        "\n",
        "from sklearn.model_selection import train_test_split\n",
        "from sklearn.metrics import accuracy_score"
      ],
      "metadata": {
        "id": "HYgsLl0bKATj"
      },
      "execution_count": 1,
      "outputs": []
    },
    {
      "cell_type": "markdown",
      "metadata": {
        "id": "GN0XuSYMk9WS"
      },
      "source": [
        "# MNIST Dataset"
      ]
    },
    {
      "cell_type": "code",
      "execution_count": 2,
      "metadata": {
        "colab": {
          "base_uri": "https://localhost:8080/"
        },
        "id": "d61VFMdWk65j",
        "outputId": "02c4a5f1-25a8-4736-8dd2-a3bae0315aa5"
      },
      "outputs": [
        {
          "output_type": "stream",
          "name": "stdout",
          "text": [
            "Downloading data from https://storage.googleapis.com/tensorflow/tf-keras-datasets/mnist.npz\n",
            "\u001b[1m11490434/11490434\u001b[0m \u001b[32m━━━━━━━━━━━━━━━━━━━━\u001b[0m\u001b[37m\u001b[0m \u001b[1m1s\u001b[0m 0us/step\n"
          ]
        }
      ],
      "source": [
        "\n",
        "from keras.datasets import mnist\n",
        "(X_train, y_train), (X_test, y_test) = mnist.load_data()"
      ]
    },
    {
      "cell_type": "code",
      "execution_count": 3,
      "metadata": {
        "colab": {
          "base_uri": "https://localhost:8080/"
        },
        "id": "lyCfsLIklCni",
        "outputId": "6137c9b1-89ff-4e27-b3f8-39dfbe1dac6d"
      },
      "outputs": [
        {
          "output_type": "stream",
          "name": "stdout",
          "text": [
            "(60000, 28, 28)\n",
            "(10000, 28, 28)\n",
            "uint8\n",
            "[[  0   0   0   0   0   0   0   0   0   0   0   0   0   0   0   0   0   0\n",
            "    0   0   0   0   0   0   0   0   0   0]\n",
            " [  0   0   0   0   0   0   0   0   0   0   0   0   0   0   0   0   0   0\n",
            "    0   0   0   0   0   0   0   0   0   0]\n",
            " [  0   0   0   0   0   0   0   0   0   0   0   0   0   0   0   0   0   0\n",
            "    0   0   0   0   0   0   0   0   0   0]\n",
            " [  0   0   0   0   0   0   0   0   0   0   0   0   0   0   0   0   0   0\n",
            "    0   0   0   0   0   0   0   0   0   0]\n",
            " [  0   0   0   0   0   0   0   0   0   0   0   0   0   0   0   0   0   0\n",
            "    0   0   0   0   0   0   0   0   0   0]\n",
            " [  0   0   0   0   0   0   0   0   0   0   0   0   3  18  18  18 126 136\n",
            "  175  26 166 255 247 127   0   0   0   0]\n",
            " [  0   0   0   0   0   0   0   0  30  36  94 154 170 253 253 253 253 253\n",
            "  225 172 253 242 195  64   0   0   0   0]\n",
            " [  0   0   0   0   0   0   0  49 238 253 253 253 253 253 253 253 253 251\n",
            "   93  82  82  56  39   0   0   0   0   0]\n",
            " [  0   0   0   0   0   0   0  18 219 253 253 253 253 253 198 182 247 241\n",
            "    0   0   0   0   0   0   0   0   0   0]\n",
            " [  0   0   0   0   0   0   0   0  80 156 107 253 253 205  11   0  43 154\n",
            "    0   0   0   0   0   0   0   0   0   0]\n",
            " [  0   0   0   0   0   0   0   0   0  14   1 154 253  90   0   0   0   0\n",
            "    0   0   0   0   0   0   0   0   0   0]\n",
            " [  0   0   0   0   0   0   0   0   0   0   0 139 253 190   2   0   0   0\n",
            "    0   0   0   0   0   0   0   0   0   0]\n",
            " [  0   0   0   0   0   0   0   0   0   0   0  11 190 253  70   0   0   0\n",
            "    0   0   0   0   0   0   0   0   0   0]\n",
            " [  0   0   0   0   0   0   0   0   0   0   0   0  35 241 225 160 108   1\n",
            "    0   0   0   0   0   0   0   0   0   0]\n",
            " [  0   0   0   0   0   0   0   0   0   0   0   0   0  81 240 253 253 119\n",
            "   25   0   0   0   0   0   0   0   0   0]\n",
            " [  0   0   0   0   0   0   0   0   0   0   0   0   0   0  45 186 253 253\n",
            "  150  27   0   0   0   0   0   0   0   0]\n",
            " [  0   0   0   0   0   0   0   0   0   0   0   0   0   0   0  16  93 252\n",
            "  253 187   0   0   0   0   0   0   0   0]\n",
            " [  0   0   0   0   0   0   0   0   0   0   0   0   0   0   0   0   0 249\n",
            "  253 249  64   0   0   0   0   0   0   0]\n",
            " [  0   0   0   0   0   0   0   0   0   0   0   0   0   0  46 130 183 253\n",
            "  253 207   2   0   0   0   0   0   0   0]\n",
            " [  0   0   0   0   0   0   0   0   0   0   0   0  39 148 229 253 253 253\n",
            "  250 182   0   0   0   0   0   0   0   0]\n",
            " [  0   0   0   0   0   0   0   0   0   0  24 114 221 253 253 253 253 201\n",
            "   78   0   0   0   0   0   0   0   0   0]\n",
            " [  0   0   0   0   0   0   0   0  23  66 213 253 253 253 253 198  81   2\n",
            "    0   0   0   0   0   0   0   0   0   0]\n",
            " [  0   0   0   0   0   0  18 171 219 253 253 253 253 195  80   9   0   0\n",
            "    0   0   0   0   0   0   0   0   0   0]\n",
            " [  0   0   0   0  55 172 226 253 253 253 253 244 133  11   0   0   0   0\n",
            "    0   0   0   0   0   0   0   0   0   0]\n",
            " [  0   0   0   0 136 253 253 253 212 135 132  16   0   0   0   0   0   0\n",
            "    0   0   0   0   0   0   0   0   0   0]\n",
            " [  0   0   0   0   0   0   0   0   0   0   0   0   0   0   0   0   0   0\n",
            "    0   0   0   0   0   0   0   0   0   0]\n",
            " [  0   0   0   0   0   0   0   0   0   0   0   0   0   0   0   0   0   0\n",
            "    0   0   0   0   0   0   0   0   0   0]\n",
            " [  0   0   0   0   0   0   0   0   0   0   0   0   0   0   0   0   0   0\n",
            "    0   0   0   0   0   0   0   0   0   0]]\n"
          ]
        }
      ],
      "source": [
        "\n",
        "print(X_train.shape) # (60000, 28, 28)\n",
        "print(X_test.shape) # (10000, 28, 28)\n",
        "print(X_train[0].dtype) # uint8\n",
        "print(X_train[0])"
      ]
    },
    {
      "cell_type": "markdown",
      "metadata": {
        "id": "g18GPQpqlJsp"
      },
      "source": [
        "Smoothing"
      ]
    },
    {
      "cell_type": "code",
      "execution_count": 4,
      "metadata": {
        "id": "z5VJx1ZjlKhm"
      },
      "outputs": [],
      "source": [
        "\n",
        "X_train = X_train.reshape(-1, 784)\n",
        "X_test = X_test.reshape(-1, 784)\n"
      ]
    },
    {
      "cell_type": "markdown",
      "metadata": {
        "id": "8kMV1sVFlNnX"
      },
      "source": [
        "Virtualization"
      ]
    },
    {
      "cell_type": "code",
      "execution_count": 5,
      "metadata": {
        "colab": {
          "base_uri": "https://localhost:8080/",
          "height": 452
        },
        "id": "wDlT2wP1lPIi",
        "outputId": "fb550b6d-4081-4fee-c472-1e6a124f3602"
      },
      "outputs": [
        {
          "output_type": "display_data",
          "data": {
            "text/plain": [
              "<Figure size 640x480 with 1 Axes>"
            ],
            "image/png": "[encoded data removed]"
          },
          "metadata": {}
        }
      ],
      "source": [
        "import matplotlib.pyplot as plt\n",
        "%matplotlib inline\n",
        "index = 0\n",
        "image = X_train[index].reshape(28,28)\n",
        "# X_train[index]: (784,)\n",
        "# image: (28, 28)\n",
        "plt.imshow(image, 'gray')\n",
        "plt.title('label : {}'.format(y_train[index]))\n",
        "plt.show()"
      ]
    },
    {
      "cell_type": "code",
      "execution_count": 6,
      "metadata": {
        "colab": {
          "base_uri": "https://localhost:8080/",
          "height": 1000
        },
        "id": "31jZ1chMlVvd",
        "outputId": "4dbe9ea4-22e7-435d-a7a8-ec612d750e31"
      },
      "outputs": [
        {
          "output_type": "display_data",
          "data": {
            "text/plain": [
              "<Figure size 640x480 with 1 Axes>"
            ],
            "image/png": "[encoded data removed]"
          },
          "metadata": {}
        },
        {
          "output_type": "stream",
          "name": "stdout",
          "text": [
            "[[-105.35 -105.35 -105.35 -105.35 -105.35 -105.35 -105.35 -105.35 -105.35\n",
            "  -105.35 -105.35 -105.35 -105.35 -105.35 -105.35 -105.35 -105.35 -105.35\n",
            "  -105.35 -105.35 -105.35 -105.35 -105.35 -105.35 -105.35 -105.35 -105.35\n",
            "  -105.35]\n",
            " [-105.35 -105.35 -105.35 -105.35 -105.35 -105.35 -105.35 -105.35 -105.35\n",
            "  -105.35 -105.35 -105.35 -105.35 -105.35 -105.35 -105.35 -105.35 -105.35\n",
            "  -105.35 -105.35 -105.35 -105.35 -105.35 -105.35 -105.35 -105.35 -105.35\n",
            "  -105.35]\n",
            " [-105.35 -105.35 -105.35 -105.35 -105.35 -105.35 -105.35 -105.35 -105.35\n",
            "  -105.35 -105.35 -105.35 -105.35 -105.35 -105.35 -105.35 -105.35 -105.35\n",
            "  -105.35 -105.35 -105.35 -105.35 -105.35 -105.35 -105.35 -105.35 -105.35\n",
            "  -105.35]\n",
            " [-105.35 -105.35 -105.35 -105.35 -105.35 -105.35 -105.35 -105.35 -105.35\n",
            "  -105.35 -105.35 -105.35 -105.35 -105.35 -105.35 -105.35 -105.35 -105.35\n",
            "  -105.35 -105.35 -105.35 -105.35 -105.35 -105.35 -105.35 -105.35 -105.35\n",
            "  -105.35]\n",
            " [-105.35 -105.35 -105.35 -105.35 -105.35 -105.35 -105.35 -105.35 -105.35\n",
            "  -105.35 -105.35 -105.35 -105.35 -105.35 -105.35 -105.35 -105.35 -105.35\n",
            "  -105.35 -105.35 -105.35 -105.35 -105.35 -105.35 -105.35 -105.35 -105.35\n",
            "  -105.35]\n",
            " [-105.35 -105.35 -105.35 -105.35 -105.35 -105.35 -105.35 -105.35 -105.35\n",
            "  -105.35 -105.35 -105.35 -102.35  -87.35  -87.35  -87.35   20.65   30.65\n",
            "    69.65  -79.35   60.65  149.65  141.65   21.65 -105.35 -105.35 -105.35\n",
            "  -105.35]\n",
            " [-105.35 -105.35 -105.35 -105.35 -105.35 -105.35 -105.35 -105.35  -75.35\n",
            "   -69.35  -11.35   48.65   64.65  147.65  147.65  147.65  147.65  147.65\n",
            "   119.65   66.65  147.65  136.65   89.65  -41.35 -105.35 -105.35 -105.35\n",
            "  -105.35]\n",
            " [-105.35 -105.35 -105.35 -105.35 -105.35 -105.35 -105.35  -56.35  132.65\n",
            "   147.65  147.65  147.65  147.65  147.65  147.65  147.65  147.65  145.65\n",
            "   -12.35  -23.35  -23.35  -49.35  -66.35 -105.35 -105.35 -105.35 -105.35\n",
            "  -105.35]\n",
            " [-105.35 -105.35 -105.35 -105.35 -105.35 -105.35 -105.35  -87.35  113.65\n",
            "   147.65  147.65  147.65  147.65  147.65   92.65   76.65  141.65  135.65\n",
            "  -105.35 -105.35 -105.35 -105.35 -105.35 -105.35 -105.35 -105.35 -105.35\n",
            "  -105.35]\n",
            " [-105.35 -105.35 -105.35 -105.35 -105.35 -105.35 -105.35 -105.35  -25.35\n",
            "    50.65    1.65  147.65  147.65   99.65  -94.35 -105.35  -62.35   48.65\n",
            "  -105.35 -105.35 -105.35 -105.35 -105.35 -105.35 -105.35 -105.35 -105.35\n",
            "  -105.35]\n",
            " [-105.35 -105.35 -105.35 -105.35 -105.35 -105.35 -105.35 -105.35 -105.35\n",
            "   -91.35 -104.35   48.65  147.65  -15.35 -105.35 -105.35 -105.35 -105.35\n",
            "  -105.35 -105.35 -105.35 -105.35 -105.35 -105.35 -105.35 -105.35 -105.35\n",
            "  -105.35]\n",
            " [-105.35 -105.35 -105.35 -105.35 -105.35 -105.35 -105.35 -105.35 -105.35\n",
            "  -105.35 -105.35   33.65  147.65   84.65 -103.35 -105.35 -105.35 -105.35\n",
            "  -105.35 -105.35 -105.35 -105.35 -105.35 -105.35 -105.35 -105.35 -105.35\n",
            "  -105.35]\n",
            " [-105.35 -105.35 -105.35 -105.35 -105.35 -105.35 -105.35 -105.35 -105.35\n",
            "  -105.35 -105.35  -94.35   84.65  147.65  -35.35 -105.35 -105.35 -105.35\n",
            "  -105.35 -105.35 -105.35 -105.35 -105.35 -105.35 -105.35 -105.35 -105.35\n",
            "  -105.35]\n",
            " [-105.35 -105.35 -105.35 -105.35 -105.35 -105.35 -105.35 -105.35 -105.35\n",
            "  -105.35 -105.35 -105.35  -70.35  135.65  119.65   54.65    2.65 -104.35\n",
            "  -105.35 -105.35 -105.35 -105.35 -105.35 -105.35 -105.35 -105.35 -105.35\n",
            "  -105.35]\n",
            " [-105.35 -105.35 -105.35 -105.35 -105.35 -105.35 -105.35 -105.35 -105.35\n",
            "  -105.35 -105.35 -105.35 -105.35  -24.35  134.65  147.65  147.65   13.65\n",
            "   -80.35 -105.35 -105.35 -105.35 -105.35 -105.35 -105.35 -105.35 -105.35\n",
            "  -105.35]\n",
            " [-105.35 -105.35 -105.35 -105.35 -105.35 -105.35 -105.35 -105.35 -105.35\n",
            "  -105.35 -105.35 -105.35 -105.35 -105.35  -60.35   80.65  147.65  147.65\n",
            "    44.65  -78.35 -105.35 -105.35 -105.35 -105.35 -105.35 -105.35 -105.35\n",
            "  -105.35]\n",
            " [-105.35 -105.35 -105.35 -105.35 -105.35 -105.35 -105.35 -105.35 -105.35\n",
            "  -105.35 -105.35 -105.35 -105.35 -105.35 -105.35  -89.35  -12.35  146.65\n",
            "   147.65   81.65 -105.35 -105.35 -105.35 -105.35 -105.35 -105.35 -105.35\n",
            "  -105.35]\n",
            " [-105.35 -105.35 -105.35 -105.35 -105.35 -105.35 -105.35 -105.35 -105.35\n",
            "  -105.35 -105.35 -105.35 -105.35 -105.35 -105.35 -105.35 -105.35  143.65\n",
            "   147.65  143.65  -41.35 -105.35 -105.35 -105.35 -105.35 -105.35 -105.35\n",
            "  -105.35]\n",
            " [-105.35 -105.35 -105.35 -105.35 -105.35 -105.35 -105.35 -105.35 -105.35\n",
            "  -105.35 -105.35 -105.35 -105.35 -105.35  -59.35   24.65   77.65  147.65\n",
            "   147.65  101.65 -103.35 -105.35 -105.35 -105.35 -105.35 -105.35 -105.35\n",
            "  -105.35]\n",
            " [-105.35 -105.35 -105.35 -105.35 -105.35 -105.35 -105.35 -105.35 -105.35\n",
            "  -105.35 -105.35 -105.35  -66.35   42.65  123.65  147.65  147.65  147.65\n",
            "   144.65   76.65 -105.35 -105.35 -105.35 -105.35 -105.35 -105.35 -105.35\n",
            "  -105.35]\n",
            " [-105.35 -105.35 -105.35 -105.35 -105.35 -105.35 -105.35 -105.35 -105.35\n",
            "  -105.35  -81.35    8.65  115.65  147.65  147.65  147.65  147.65   95.65\n",
            "   -27.35 -105.35 -105.35 -105.35 -105.35 -105.35 -105.35 -105.35 -105.35\n",
            "  -105.35]\n",
            " [-105.35 -105.35 -105.35 -105.35 -105.35 -105.35 -105.35 -105.35  -82.35\n",
            "   -39.35  107.65  147.65  147.65  147.65  147.65   92.65  -24.35 -103.35\n",
            "  -105.35 -105.35 -105.35 -105.35 -105.35 -105.35 -105.35 -105.35 -105.35\n",
            "  -105.35]\n",
            " [-105.35 -105.35 -105.35 -105.35 -105.35 -105.35  -87.35   65.65  113.65\n",
            "   147.65  147.65  147.65  147.65   89.65  -25.35  -96.35 -105.35 -105.35\n",
            "  -105.35 -105.35 -105.35 -105.35 -105.35 -105.35 -105.35 -105.35 -105.35\n",
            "  -105.35]\n",
            " [-105.35 -105.35 -105.35 -105.35  -50.35   66.65  120.65  147.65  147.65\n",
            "   147.65  147.65  138.65   27.65  -94.35 -105.35 -105.35 -105.35 -105.35\n",
            "  -105.35 -105.35 -105.35 -105.35 -105.35 -105.35 -105.35 -105.35 -105.35\n",
            "  -105.35]\n",
            " [-105.35 -105.35 -105.35 -105.35   30.65  147.65  147.65  147.65  106.65\n",
            "    29.65   26.65  -89.35 -105.35 -105.35 -105.35 -105.35 -105.35 -105.35\n",
            "  -105.35 -105.35 -105.35 -105.35 -105.35 -105.35 -105.35 -105.35 -105.35\n",
            "  -105.35]\n",
            " [-105.35 -105.35 -105.35 -105.35 -105.35 -105.35 -105.35 -105.35 -105.35\n",
            "  -105.35 -105.35 -105.35 -105.35 -105.35 -105.35 -105.35 -105.35 -105.35\n",
            "  -105.35 -105.35 -105.35 -105.35 -105.35 -105.35 -105.35 -105.35 -105.35\n",
            "  -105.35]\n",
            " [-105.35 -105.35 -105.35 -105.35 -105.35 -105.35 -105.35 -105.35 -105.35\n",
            "  -105.35 -105.35 -105.35 -105.35 -105.35 -105.35 -105.35 -105.35 -105.35\n",
            "  -105.35 -105.35 -105.35 -105.35 -105.35 -105.35 -105.35 -105.35 -105.35\n",
            "  -105.35]\n",
            " [-105.35 -105.35 -105.35 -105.35 -105.35 -105.35 -105.35 -105.35 -105.35\n",
            "  -105.35 -105.35 -105.35 -105.35 -105.35 -105.35 -105.35 -105.35 -105.35\n",
            "  -105.35 -105.35 -105.35 -105.35 -105.35 -105.35 -105.35 -105.35 -105.35\n",
            "  -105.35]]\n"
          ]
        }
      ],
      "source": [
        "index = 0\n",
        "image = X_train[index].reshape(28,28)\n",
        "image = image.astype(np.float64) ## Convert to float type\n",
        "image -= 105.35 ## Intentionally try to create a negative decimal value\n",
        "plt.imshow(image, 'gray')\n",
        "plt.title('label : {}'.format(y_train[index]))\n",
        "plt.show()\n",
        "print(image) ## Check the value"
      ]
    },
    {
      "cell_type": "code",
      "execution_count": 7,
      "metadata": {
        "colab": {
          "base_uri": "https://localhost:8080/",
          "height": 447
        },
        "id": "sTh20p7elsXH",
        "outputId": "46a98aed-70a8-4647-ed55-8aa8f16a6e2d"
      },
      "outputs": [
        {
          "output_type": "execute_result",
          "data": {
            "text/plain": [
              "<matplotlib.image.AxesImage at 0x7fabdcbdffd0>"
            ]
          },
          "metadata": {},
          "execution_count": 7
        },
        {
          "output_type": "display_data",
          "data": {
            "text/plain": [
              "<Figure size 640x480 with 1 Axes>"
            ],
            "image/png": "[encoded data removed]"
          },
          "metadata": {}
        }
      ],
      "source": [
        "plt.imshow(image, 'gray', vmin = 0, vmax = 255)"
      ]
    },
    {
      "cell_type": "markdown",
      "metadata": {
        "id": "CMyWTyailwi4"
      },
      "source": [
        "Petreatment"
      ]
    },
    {
      "cell_type": "code",
      "execution_count": 8,
      "metadata": {
        "colab": {
          "base_uri": "https://localhost:8080/"
        },
        "id": "CT89E_Wmlx9B",
        "outputId": "29e16cab-5f1c-486e-cabe-e9eea91e4b24"
      },
      "outputs": [
        {
          "output_type": "stream",
          "name": "stdout",
          "text": [
            "1.0\n",
            "0.0\n"
          ]
        }
      ],
      "source": [
        "X_train = X_train.astype(np.float64)\n",
        "X_test = X_test.astype(np.float64)\n",
        "X_train /= 255\n",
        "X_test /= 255\n",
        "print(X_train.max()) # 1.0\n",
        "print(X_train.min()) # 0.0"
      ]
    },
    {
      "cell_type": "code",
      "execution_count": 21,
      "metadata": {
        "colab": {
          "base_uri": "https://localhost:8080/"
        },
        "id": "ML2R3fKbl4AZ",
        "outputId": "c8fe5a57-1788-469e-af8d-a39ea0b374af"
      },
      "outputs": [
        {
          "output_type": "stream",
          "name": "stdout",
          "text": [
            "(48000,)\n",
            "(48000, 10)\n",
            "float64\n"
          ]
        }
      ],
      "source": [
        "from sklearn.preprocessing import OneHotEncoder\n",
        "enc = OneHotEncoder(handle_unknown='ignore')\n",
        "y_train_one_hot = enc.fit_transform(y_train[:, np.newaxis])\n",
        "y_test_one_hot = enc.transform(y_test[:, np.newaxis])\n",
        "print(y_train.shape) # (60000,)\n",
        "print(y_train_one_hot.shape) # (60000, 10)\n",
        "print(y_train_one_hot.dtype) # float64"
      ]
    },
    {
      "cell_type": "code",
      "execution_count": 12,
      "metadata": {
        "id": "WYn55A-amFv-",
        "colab": {
          "base_uri": "https://localhost:8080/"
        },
        "outputId": "c805a091-7dc8-4d72-d584-0bd89999209b"
      },
      "outputs": [
        {
          "output_type": "stream",
          "name": "stdout",
          "text": [
            "(48000, 784)\n",
            "(12000, 784)\n"
          ]
        }
      ],
      "source": [
        "X_train, X_val, y_train, y_val = train_test_split(X_train, y_train, test_size=0.2)\n",
        "print(X_train.shape) # (48000, 784)\n",
        "print(X_val.shape) # (12000, 784)"
      ]
    },
    {
      "cell_type": "markdown",
      "metadata": {
        "id": "mq0f192lmK7m"
      },
      "source": [
        "# Assingment"
      ]
    },
    {
      "cell_type": "markdown",
      "metadata": {
        "id": "inTCJhlJnU8h"
      },
      "source": [
        "Neural Network Sracth"
      ]
    },
    {
      "cell_type": "code",
      "source": [
        "from sklearn.preprocessing import OneHotEncoder\n",
        "class ScratchSimpleNeuralNetrowkClassifier():\n",
        "    \"\"\"\n",
        "    Simple three-layer neural network classifier\n",
        "\n",
        "    Parameters\n",
        "    ----------\n",
        "\n",
        "    Attributes\n",
        "    ----------\n",
        "    \"\"\"\n",
        "    def __init__(self, n_nodes1, n_nodes2, lr=0.1, epoch=5, batch_size=20, sigma=0.01, activation_func=\"sigmoid\", verbose = True):\n",
        "        self.verbose = verbose\n",
        "        self.params = {}\n",
        "        self.bias = {}\n",
        "\n",
        "        self.n_nodes1 = n_nodes1\n",
        "        self.n_nodes2 = n_nodes2\n",
        "        self.lr = lr\n",
        "        self.epoch = epoch\n",
        "        self.batch_size = batch_size\n",
        "        self.sigma = sigma\n",
        "\n",
        "        self.train_loss = []\n",
        "        self.val_loss = []\n",
        "\n",
        "        if activation_func == \"sigmoid\":\n",
        "            self.forward_activation_func = self._sigmoid_forward\n",
        "            self.backward_activation_func = self._sigmoid_backward\n",
        "        elif activation_func == \"tanh\":\n",
        "            self.forward_activation_func = self._tanh_forward\n",
        "            self.backward_activation_func = self._tanh_backward\n",
        "        else:\n",
        "            raise ValueError(\"No exists such activation function !!\")\n",
        "\n",
        "\n",
        "    def fit(self, X, y, X_val=None, y_val=None):\n",
        "\n",
        "       ## Whether to record the loss function of verification data\n",
        "        calc_val = (X_val is not None) & (y_val is not None)\n",
        "\n",
        "        ## One_hot conversion of objective variable\n",
        "        y = self._one_hot_encoding(y)\n",
        "        if calc_val:\n",
        "            y_val = self._one_hot_encoding(y_val)\n",
        "\n",
        "        ## Initial value parameter set\n",
        "        self._set_parameters(X, y)\n",
        "\n",
        "        ## Mini batch object definition\n",
        "        get_mini_batch = GetMiniBatch(X, y, batch_size=self.batch_size)\n",
        "\n",
        "        ## Learning\n",
        "        for ep in range(self.epoch):\n",
        "            for mini_X, mini_y in get_mini_batch:\n",
        "                ## Forward propagation\n",
        "                ## ① Hierarchy＝＝＝＝＝＝＝＝＝＝＝＝＝＝＝＝＝＝\n",
        "                A1 = mini_X @ self.params[\"W1\"] + self.bias[\"b1\"]\n",
        "                Z1 = self.forward_activation_func(A1)\n",
        "                ## ② Hierarchy＝＝＝＝＝＝＝＝＝＝＝＝＝＝＝＝＝＝\n",
        "                A2 = Z1 @ self.params[\"W2\"] + self.bias[\"b2\"]\n",
        "                Z2 = self.forward_activation_func(A2)\n",
        "                ## ③ Hierarchy＝＝＝＝＝＝＝＝＝＝＝＝＝＝＝＝＝＝\n",
        "                A3 = Z2 @ self.params[\"W3\"] + self.bias[\"b3\"]\n",
        "                Z3 = self._softmax(A3)\n",
        "                #＝＝＝＝＝＝＝＝＝＝＝＝＝＝＝＝＝＝＝＝＝＝\n",
        "\n",
        "               ## Backpropagation\n",
        "                ## ③ Layer＝＝＝＝＝＝＝＝＝＝＝＝＝＝＝＝＝＝\n",
        "                deltaA3 = Z3 - mini_y\n",
        "                deltaB3 = np.sum(deltaA3, axis=0, keepdims=True)\n",
        "                deltaW3 = Z2.T @ deltaA3\n",
        "\n",
        "                self.params[\"W3\"] -= self.lr * deltaW3\n",
        "                self.bias[\"b3\"] -= self.lr * deltaB3\n",
        "\n",
        "                deltaZ2 = deltaA3 @ self.params[\"W3\"].T\n",
        "\n",
        "                ## ② Layer＝＝＝＝＝＝＝＝＝＝＝＝＝＝＝＝＝＝\n",
        "                deltaA2 = np.array(deltaZ2) * np.array(self.backward_activation_func(A2))\n",
        "                deltaB2 = np.sum(deltaA2, axis=0, keepdims=True)\n",
        "                deltaW2 = Z1.T @ deltaA2\n",
        "\n",
        "                self.params[\"W2\"] -= self.lr * deltaW2\n",
        "                self.bias[\"b2\"] -= self.lr * deltaB2\n",
        "\n",
        "                deltaZ1 = deltaA2 @ self.params[\"W2\"].T\n",
        "                ## ① Layer＝＝＝＝＝＝＝＝＝＝＝＝＝＝＝＝＝＝\n",
        "                deltaA1 = np.array(deltaZ1) * np.array(self.backward_activation_func(A1))\n",
        "                deltaB1 = np.sum(deltaA1, axis=0, keepdims=True)\n",
        "                deltaW1 = mini_X.T @ deltaA1\n",
        "\n",
        "                self.params[\"W1\"] -= self.lr * deltaW1\n",
        "                self.bias[\"b1\"] -= self.lr * deltaB1\n",
        "                #＝＝＝＝＝＝＝＝＝＝＝＝＝＝＝＝＝＝＝＝＝\n",
        "\n",
        "            ## Record of loss\n",
        "            tr_loss = self._cross_entropy(self.predict_prob(X), y)\n",
        "            self.train_loss.append(tr_loss)\n",
        "\n",
        "            if self.verbose:\n",
        "                    print(\"Train loss of epoch {}: {}\".format(ep, tr_loss))\n",
        "\n",
        "            if calc_val:\n",
        "                va_loss = self._cross_entropy(self.predict_prob(X_val), y_val)\n",
        "                self.val_loss.append(va_loss)\n",
        "\n",
        "\n",
        "    def predict_prob(self, X):\n",
        "        ## Forward propagation\n",
        "        ## ① Hierarchy＝＝＝＝＝＝＝＝＝＝＝＝＝＝＝＝＝＝\n",
        "        A1 = X @ self.params[\"W1\"] + self.bias[\"b1\"]\n",
        "        Z1 = self.forward_activation_func(A1)\n",
        "        ## ② Hierarchy＝＝＝＝＝＝＝＝＝＝＝＝＝＝＝＝＝＝\n",
        "        A2 = Z1 @ self.params[\"W2\"] + self.bias[\"b2\"]\n",
        "        Z2 = self.forward_activation_func(A2)\n",
        "        ## ③ Hierarchy＝＝＝＝＝＝＝＝＝＝＝＝＝＝＝＝＝＝\n",
        "        A3 = Z2 @ self.params[\"W3\"] + self.bias[\"b3\"]\n",
        "        y = self._softmax(A3)\n",
        "        ##＝＝＝＝＝＝＝＝＝＝＝＝＝＝＝＝＝＝＝＝＝＝\n",
        "\n",
        "        return y\n",
        "\n",
        "    def predict(self, X):\n",
        "        y = np.argmax(self.predict_prob(X), axis=1)\n",
        "\n",
        "        return y\n",
        "\n",
        "    def _set_parameters(self, X, y):\n",
        "        ## Set the number of features and the number of classes\n",
        "        self.n_features = X.shape[1]\n",
        "        self.n_output = y.shape[1]\n",
        "\n",
        "        ## Initial weight\n",
        "        self.params[\"W1\"] = self.sigma * np.random.randn(self.n_features, self.n_nodes1)\n",
        "        self.params[\"W2\"] = self.sigma * np.random.randn(self.n_nodes1, self.n_nodes2)\n",
        "        self.params[\"W3\"] = self.sigma * np.random.randn(self.n_nodes2, self.n_output)\n",
        "\n",
        "       ## Bias initial value\n",
        "        self.bias[\"b1\"] = self.sigma * np.random.randn(1, self.n_nodes1)\n",
        "        self.bias[\"b2\"] = self.sigma * np.random.randn(1, self.n_nodes2)\n",
        "        self.bias[\"b3\"] = self.sigma * np.random.randn(1, self.n_output)\n",
        "\n",
        "    def _sigmoid_forward(self, X):\n",
        "        return 1 / (1 + np.exp(-X))\n",
        "\n",
        "    def _tanh_forward(self, X):\n",
        "        return np.tanh(X)\n",
        "\n",
        "    def _sigmoid_backward(self, X):\n",
        "        return (1-self._sigmoid_forward(X)) * self._sigmoid_forward(X)\n",
        "\n",
        "    def _tanh_backward(self, X):\n",
        "        return (1 - self._tanh_forward(X)**2)\n",
        "\n",
        "    def _softmax(self, X):\n",
        "        X = X - np.max(X)\n",
        "        return np.exp(X) / np.sum(np.exp(X), axis=1, keepdims=True)\n",
        "\n",
        "    def _one_hot_encoding(self, y):\n",
        "        enc = OneHotEncoder(handle_unknown='ignore')\n",
        "        y_one_hot = enc.fit_transform(y[:, np.newaxis]).toarray()\n",
        "        return y_one_hot\n",
        "\n",
        "    def _cross_entropy(self, X, y):\n",
        "        batch_size = len(X)\n",
        "        delta = 1e-7\n",
        "        return -np.sum(y * np.log(X+delta)) / batch_size"
      ],
      "metadata": {
        "id": "8Z2aPF5DLy-T"
      },
      "execution_count": 43,
      "outputs": []
    },
    {
      "cell_type": "markdown",
      "metadata": {
        "id": "K7LeOtBFnmkW"
      },
      "source": [
        "Mini-batch processing"
      ]
    },
    {
      "cell_type": "code",
      "execution_count": 26,
      "metadata": {
        "id": "TJemu364noDZ"
      },
      "outputs": [],
      "source": [
        "class GetMiniBatch:\n",
        "    \"\"\"\n",
        "    Iterator to get a mini-batch\n",
        "\n",
        "    Parameters\n",
        "    ----------\n",
        "    X :The following form ndarray, shape (n_samples, n_features)\n",
        "      Training data\n",
        "    y : The following form ndarray, shape (n_samples, 1)\n",
        "      Correct answer value\n",
        "    batch_size : int\n",
        "      Batch size\n",
        "    seed : int\n",
        "      NumPy random number seed\n",
        "    \"\"\"\n",
        "    def __init__(self, X, y, batch_size = 20, seed=0):\n",
        "        self.batch_size = batch_size\n",
        "        np.random.seed(seed)\n",
        "        shuffle_index = np.random.permutation(np.arange(X.shape[0]))\n",
        "        self._X = X[shuffle_index]\n",
        "        self._y = y[shuffle_index]\n",
        "        self._stop = np.ceil(X.shape[0]/self.batch_size).astype(np.int64)\n",
        "    def __len__(self):\n",
        "        return self._stop\n",
        "    def __getitem__(self,item):\n",
        "        p0 = item*self.batch_size\n",
        "        p1 = item*self.batch_size + self.batch_size\n",
        "        return np.array(self._X[p0:p1]), np.array(self._y[p0:p1])\n",
        "    def __iter__(self):\n",
        "        self._counter = 0\n",
        "        return self\n",
        "    def __next__(self):\n",
        "      if self._counter >= self._stop:\n",
        "          raise StopIteration()\n",
        "      p0 = self._counter*self.batch_size\n",
        "      p1 = self._counter*self.batch_size + self.batch_size\n",
        "      self._counter += 1\n",
        "      return np.array(self._X[p0:p1]), np.array(self._y[p0:p1])"
      ]
    },
    {
      "cell_type": "code",
      "execution_count": 32,
      "metadata": {
        "colab": {
          "base_uri": "https://localhost:8080/"
        },
        "id": "5Kjer47-nrtn",
        "outputId": "736b5865-0e11-4cbe-e4bc-c492f82f9856"
      },
      "outputs": [
        {
          "output_type": "stream",
          "name": "stdout",
          "text": [
            "Train loss of epoch 0: 2.3095628181002152\n",
            "Train loss of epoch 1: 2.31068072963742\n",
            "Train loss of epoch 2: 2.3097075151241104\n",
            "Train loss of epoch 3: 2.2171512151103996\n",
            "Train loss of epoch 4: 1.5058666561098566\n",
            "Train loss of epoch 5: 1.1274157405767624\n",
            "Train loss of epoch 6: 0.8699672092512586\n",
            "Train loss of epoch 7: 0.7199566309495216\n",
            "Train loss of epoch 8: 0.6423101903682029\n",
            "Train loss of epoch 9: 0.5750865230805046\n",
            "Train loss of epoch 10: 0.5226442452317842\n",
            "Train loss of epoch 11: 0.4830142133891872\n",
            "Train loss of epoch 12: 0.447806867942047\n",
            "Train loss of epoch 13: 0.4128535875764314\n",
            "Train loss of epoch 14: 0.38121929788250364\n",
            "Train loss of epoch 15: 0.356968257601825\n",
            "Train loss of epoch 16: 0.3388873679881842\n",
            "Train loss of epoch 17: 0.3246798108153906\n",
            "Train loss of epoch 18: 0.3128298060135637\n",
            "Train loss of epoch 19: 0.30240324973336025\n",
            "Train loss of epoch 20: 0.292816253813859\n",
            "Train loss of epoch 21: 0.2837054298546619\n",
            "Train loss of epoch 22: 0.2748525402001259\n",
            "Train loss of epoch 23: 0.26613795065496954\n",
            "Train loss of epoch 24: 0.2575109609182914\n",
            "Train loss of epoch 25: 0.24896945393808942\n",
            "Train loss of epoch 26: 0.2405440898247944\n",
            "Train loss of epoch 27: 0.23228476135381573\n",
            "Train loss of epoch 28: 0.22424856409509394\n",
            "Train loss of epoch 29: 0.21648948625894854\n"
          ]
        }
      ],
      "source": [
        "nn = ScratchSimpleNeuralNetrowkClassifier(400,200, epoch=30,lr=1e-3)\n",
        "nn.fit(X_train, y_train, X_test, y_test)"
      ]
    },
    {
      "cell_type": "code",
      "execution_count": 33,
      "metadata": {
        "id": "sqCF9Ehtnvk7",
        "colab": {
          "base_uri": "https://localhost:8080/"
        },
        "outputId": "1ca09f5a-c554-4ef2-b166-6377dc3ca6da"
      },
      "outputs": [
        {
          "output_type": "stream",
          "name": "stdout",
          "text": [
            "pred: [7 2 1 ... 4 5 6]\n",
            "ans: [7 2 1 ... 4 5 6]\n",
            "accuracy score: 0.9367\n"
          ]
        }
      ],
      "source": [
        "\n",
        "y_pred = nn.predict(X_test)\n",
        "print(\"pred:\", y_pred)\n",
        "print(\"ans:\", y_test)\n",
        "print(\"accuracy score:\", accuracy_score(y_test, y_pred))"
      ]
    },
    {
      "cell_type": "code",
      "execution_count": 34,
      "metadata": {
        "id": "Fg7BcOK5nyFi",
        "colab": {
          "base_uri": "https://localhost:8080/",
          "height": 472
        },
        "outputId": "fc8f940e-930c-48c1-9dce-f4d4ceee40e0"
      },
      "outputs": [
        {
          "output_type": "display_data",
          "data": {
            "text/plain": [
              "<Figure size 640x480 with 1 Axes>"
            ],
            "image/png": "[encoded data removed]"
          },
          "metadata": {}
        }
      ],
      "source": [
        "plt.plot(nn.train_loss, marker=\"o\", label=\"train_loss\", c= \"red\")\n",
        "plt.plot(nn.val_loss, marker=\"^\", label=\"val_loss\")\n",
        "plt.title(\"Loss transition by learning\")\n",
        "plt.xlabel(\"epoch\")\n",
        "plt.ylabel(\"loss\")\n",
        "plt.show()"
      ]
    },
    {
      "cell_type": "code",
      "execution_count": 35,
      "metadata": {
        "id": "WSbMu7oMn2Xn",
        "colab": {
          "base_uri": "https://localhost:8080/"
        },
        "outputId": "52ae1975-f615-4c8e-d79d-9eddbee758b6"
      },
      "outputs": [
        {
          "output_type": "execute_result",
          "data": {
            "text/plain": [
              "[np.float64(2.3095628181002152),\n",
              " np.float64(2.31068072963742),\n",
              " np.float64(2.3097075151241104),\n",
              " np.float64(2.2171512151103996),\n",
              " np.float64(1.5058666561098566),\n",
              " np.float64(1.1274157405767624),\n",
              " np.float64(0.8699672092512586),\n",
              " np.float64(0.7199566309495216),\n",
              " np.float64(0.6423101903682029),\n",
              " np.float64(0.5750865230805046),\n",
              " np.float64(0.5226442452317842),\n",
              " np.float64(0.4830142133891872),\n",
              " np.float64(0.447806867942047),\n",
              " np.float64(0.4128535875764314),\n",
              " np.float64(0.38121929788250364),\n",
              " np.float64(0.356968257601825),\n",
              " np.float64(0.3388873679881842),\n",
              " np.float64(0.3246798108153906),\n",
              " np.float64(0.3128298060135637),\n",
              " np.float64(0.30240324973336025),\n",
              " np.float64(0.292816253813859),\n",
              " np.float64(0.2837054298546619),\n",
              " np.float64(0.2748525402001259),\n",
              " np.float64(0.26613795065496954),\n",
              " np.float64(0.2575109609182914),\n",
              " np.float64(0.24896945393808942),\n",
              " np.float64(0.2405440898247944),\n",
              " np.float64(0.23228476135381573),\n",
              " np.float64(0.22424856409509394),\n",
              " np.float64(0.21648948625894854)]"
            ]
          },
          "metadata": {},
          "execution_count": 35
        }
      ],
      "source": [
        "nn.train_loss\n"
      ]
    },
    {
      "cell_type": "code",
      "source": [
        "nn.val_loss"
      ],
      "metadata": {
        "colab": {
          "base_uri": "https://localhost:8080/"
        },
        "id": "ZNM7CmDQOzs6",
        "outputId": "e163ad91-cd57-4891-c18a-26272dec3783"
      },
      "execution_count": 36,
      "outputs": [
        {
          "output_type": "execute_result",
          "data": {
            "text/plain": [
              "[np.float64(2.3100730867672756),\n",
              " np.float64(2.3111967833086844),\n",
              " np.float64(2.310231559811911),\n",
              " np.float64(2.215825742306053),\n",
              " np.float64(1.4995033557233237),\n",
              " np.float64(1.1205227100305746),\n",
              " np.float64(0.8630980553807464),\n",
              " np.float64(0.7094689777930692),\n",
              " np.float64(0.6320748361254918),\n",
              " np.float64(0.5662918915898142),\n",
              " np.float64(0.5157665836206274),\n",
              " np.float64(0.47788647374070253),\n",
              " np.float64(0.44412736851633017),\n",
              " np.float64(0.41036462963969145),\n",
              " np.float64(0.3796780673975368),\n",
              " np.float64(0.35616239801760935),\n",
              " np.float64(0.3386451230713752),\n",
              " np.float64(0.3248518431150182),\n",
              " np.float64(0.3133343936756513),\n",
              " np.float64(0.30323816724960295),\n",
              " np.float64(0.2940340679947474),\n",
              " np.float64(0.28538152103567543),\n",
              " np.float64(0.27706212226781946),\n",
              " np.float64(0.2689444206590481),\n",
              " np.float64(0.2609621252610528),\n",
              " np.float64(0.253097811620321),\n",
              " np.float64(0.2453686276010484),\n",
              " np.float64(0.23781296775883057),\n",
              " np.float64(0.23047836036195382),\n",
              " np.float64(0.2234112825260278)]"
            ]
          },
          "metadata": {},
          "execution_count": 36
        }
      ]
    },
    {
      "cell_type": "code",
      "execution_count": 37,
      "metadata": {
        "id": "j5Nk9qvUn8Bc",
        "colab": {
          "base_uri": "https://localhost:8080/",
          "height": 539
        },
        "outputId": "15fa17dd-950d-4494-a908-7afb027e7931"
      },
      "outputs": [
        {
          "output_type": "display_data",
          "data": {
            "text/plain": [
              "<Figure size 600x600 with 36 Axes>"
            ],
            "image/png": "[encoded data removed]"
          },
          "metadata": {}
        }
      ],
      "source": [
        "y_val = y_test\n",
        "\n",
        "\"\"\"\n",
        "Display word classification results side by side. The display above the image is \"estimated result / correct answer\".\n",
        "\n",
        "Parameters:\n",
        "----------\n",
        "y_pred : Estimated value ndarray (n_samples,)\n",
        "y_val : Correct label for validation data (n_samples,)\n",
        "X_val : Features of verification data（n_samples, n_features)\n",
        "\"\"\"\n",
        "import numpy as np\n",
        "import matplotlib.pyplot as plt\n",
        "num = 36 # How many to display\n",
        "true_false = y_pred==y_test\n",
        "false_list = np.where(true_false==False)[0].astype(np.int64)\n",
        "if false_list.shape[0] < num:\n",
        "    num = false_list.shape[0]\n",
        "fig = plt.figure(figsize=(6, 6))\n",
        "fig.subplots_adjust(left=0, right=0.8,  bottom=0, top=0.8, hspace=1, wspace=0.5)\n",
        "for i in range(num):\n",
        "    ax = fig.add_subplot(6, 6, i + 1, xticks=[], yticks=[])\n",
        "    ax.set_title(\"{} / {}\".format(y_pred[false_list[i]],y_test[false_list[i]]))\n",
        "    ax.imshow(X_test.reshape(-1,28,28)[false_list[i]], cmap='gray')\n",
        ""
      ]
    },
    {
      "cell_type": "code",
      "execution_count": 38,
      "metadata": {
        "id": "ud_9q4GRn-jU"
      },
      "outputs": [],
      "source": [
        "def sigmoid_forwarrd(X):\n",
        "    return 1 / (1 + np.exp(-X))\n",
        "\n",
        "def tanh_forwarrd(X):\n",
        "    return np.tanh(X)\n",
        "\n",
        "def sigmoid_backward(X):\n",
        "    return (1- sigmoid_forwarrd(X)) * sigmoid_forwarrd(X)\n",
        "\n",
        "def tanh_backward(X):\n",
        "    return (1 - tanh_forwarrd(X)**2)\n",
        "\n",
        "def softmax(X):\n",
        "    return np.exp(X) / np.sum(np.exp(X), axis=1, keepdims=True)\n",
        "\n",
        "def cross_entropy(X, y):\n",
        "    batch_size = len(X)\n",
        "    delta = 1e-7\n",
        "    return -np.sum(y * np.log(X+delta)) / batch_size"
      ]
    },
    {
      "cell_type": "code",
      "execution_count": 40,
      "metadata": {
        "id": "frBT8rumoB8D",
        "colab": {
          "base_uri": "https://localhost:8080/"
        },
        "outputId": "913fd903-9f28-4af0-acb2-adf7dbe633dc"
      },
      "outputs": [
        {
          "output_type": "execute_result",
          "data": {
            "text/plain": [
              "matrix([[-3.90000609,  2.80152655, -2.9501822 ,  5.04866174],\n",
              "        [-5.90000009,  0.7000001 , -1.9       ,  2.09999999]])"
            ]
          },
          "metadata": {},
          "execution_count": 40
        }
      ],
      "source": [
        "XX = np.array([[1,2],[3,4],[5,6],[7,8]])\n",
        "yy = np.array([0,1,2,3])\n",
        "\n",
        "enc = OneHotEncoder(handle_unknown='ignore')\n",
        "yy_one_hot = enc.fit_transform(yy[:, np.newaxis])\n",
        "\n",
        "n_nodes1 = 3\n",
        "n_nodes2 = 2\n",
        "n_output = yy_one_hot.shape[1]\n",
        "n_features = XX.shape[1]\n",
        "\n",
        "bias1 = np.array([-20, -10, -12])\n",
        "bias2 = np.array([10, 15])\n",
        "bias3 = np.array([10, 15, -10, -5])\n",
        "\n",
        "w1 = np.array([[5, 3, 1], [4, 2, 0]])\n",
        "w2 = np.array([[-4, 3], [-6, 1], [-8, 5]])\n",
        "w3 = np.array([[-4, 3, -3, 5], [-6, 1, -2, 2]])\n",
        "\n",
        "A1 = XX @ w1 + bias1\n",
        "Z1 = sigmoid_forwarrd(A1)\n",
        "\n",
        "A2 = Z1 @ w2 + bias2\n",
        "Z2 = sigmoid_forwarrd(A2)\n",
        "\n",
        "A3 = Z2 @ w3 + bias3\n",
        "Z3 = softmax(A3)\n",
        "\n",
        "Z2.T @ (Z3 - yy_one_hot)\n",
        "\n",
        "w3 - 0.1 *(Z2.T @ (Z3 - yy_one_hot))\n",
        ""
      ]
    },
    {
      "cell_type": "code",
      "execution_count": 44,
      "metadata": {
        "id": "7jeSEcdvoEfk"
      },
      "outputs": [],
      "source": [
        "## 1st layer\n",
        "deltaA3 = Z3 - yy_one_hot\n",
        "deltaB3 = np.sum(deltaA3, axis=0)\n",
        "deltaW3 = Z2.T @ deltaA3\n",
        "deltaZ2 = deltaA3 @ w3.T\n",
        "\n",
        "## 2nd layer\n",
        "deltaA2 = np.array(deltaZ2) * np.array(sigmoid_backward(A2))\n",
        "deltaB2 = np.sum(deltaA2, axis=0)\n",
        "deltaW2 = Z1.T @ deltaA2\n",
        "deltaZ1 = deltaA2 @ w2.T\n",
        "\n",
        "## 3rd layer\n",
        "deltaA1 = np.array(deltaZ1) * np.array(sigmoid_backward(A1))\n",
        "deltaB1 = np.sum(deltaA1, axis=0)\n",
        "deltaW1 = XX.T @ deltaA1"
      ]
    },
    {
      "cell_type": "code",
      "execution_count": 45,
      "metadata": {
        "id": "Cmq-5V5soHMW",
        "colab": {
          "base_uri": "https://localhost:8080/"
        },
        "outputId": "d9871b48-d1ce-44dd-9dc1-a5eb999eb46e"
      },
      "outputs": [
        {
          "output_type": "stream",
          "name": "stdout",
          "text": [
            "1st layer\n",
            "(4, 4)\n",
            "(1, 4)\n",
            "(2, 4)\n",
            "(4, 2)\n",
            "[[-3.90000609  2.80152655 -2.9501822   5.04866174]\n",
            " [-5.90000009  0.7000001  -1.9         2.09999999]]\n",
            "\n",
            "Second layer\n",
            "(4, 2)\n",
            "(2,)\n",
            "(3, 2)\n",
            "(4, 3)\n",
            "\n",
            "Third layer\n",
            "(4, 3)\n",
            "(3,)\n",
            "(2, 3)\n"
          ]
        }
      ],
      "source": [
        "print(\"1st layer\")\n",
        "print(deltaA3.shape)\n",
        "print(deltaB3.shape)\n",
        "print(deltaW3.shape)\n",
        "print(deltaZ2.shape)\n",
        "print(w3 - 0.1 * deltaW3)\n",
        "print()\n",
        "print(\"Second layer\")\n",
        "print(deltaA2.shape)\n",
        "print(deltaB2.shape)\n",
        "print(deltaW2.shape)\n",
        "print(deltaZ1.shape)\n",
        "print()\n",
        "print(\"Third layer\")\n",
        "print(deltaA1.shape)\n",
        "print(deltaB1.shape)\n",
        "print(deltaW1.shape)"
      ]
    }
  ],
  "metadata": {
    "colab": {
      "provenance": [],
      "authorship_tag": "ABX9TyMK8y9f+0tUKBUzdIhTzqdK",
      "include_colab_link": true
    },
    "kernelspec": {
      "display_name": "Python 3",
      "name": "python3"
    },
    "language_info": {
      "name": "python"
    }
  },
  "nbformat": 4,
  "nbformat_minor": 0
}