{
  "nbformat": 4,
  "nbformat_minor": 0,
  "metadata": {
    "colab": {
      "provenance": [],
      "authorship_tag": "ABX9TyOdx5cYAzmFvDRsqi/NppHT",
      "include_colab_link": true
    },
    "kernelspec": {
      "name": "python3",
      "display_name": "Python 3"
    },
    "language_info": {
      "name": "python"
    }
  },
  "cells": [
    {
      "cell_type": "markdown",
      "metadata": {
        "id": "view-in-github",
        "colab_type": "text"
      },
      "source": [
        "<a href=\"https://colab.research.google.com/github/WalterPHD/Ai-Data/blob/main/Clustering.ipynb\" target=\"_parent\"><img src=\"https://colab.research.google.com/assets/colab-badge.svg\" alt=\"Open In Colab\"/></a>"
      ]
    },
    {
      "cell_type": "markdown",
      "source": [
        "Problem 1 - Determine inicial value of center point"
      ],
      "metadata": {
        "id": "X0ycIiYkKKQc"
      }
    },
    {
      "cell_type": "code",
      "source": [],
      "metadata": {
        "id": "QX3hn-IrKKQd"
      },
      "execution_count": null,
      "outputs": []
    },
    {
      "cell_type": "markdown",
      "source": [
        "# Scratch"
      ],
      "metadata": {
        "id": "WhvcAINDBniU"
      }
    },
    {
      "cell_type": "code",
      "execution_count": null,
      "metadata": {
        "id": "JWGAdMbcA7q8"
      },
      "outputs": [],
      "source": [
        "class ScratchKMeans():\n",
        "    \"\"\"\n",
        "    K-means scratch implementation\n",
        "\n",
        "    Parameters\n",
        "    ----------\n",
        "    n_clusters : int\n",
        "      Number of clusters\n",
        "    n_init : int\n",
        "      How many times to change the initial value of the center point for calculation\n",
        "    max_iter : int\n",
        "      Maximum number of iterations in one calculation\n",
        "    tol : float\n",
        "      Margin of error between the center point and the center of gravity, which is the reference for ending the iteration\n",
        "    verbose : bool\n",
        "      True to output the learning process\n",
        "    \"\"\"\n",
        "    def __init__(self, n_clusters, n_init, max_iter, tol, verbose=False):\n",
        "        # Record hyperparameters as attributes\n",
        "        self.n_clusters = n_clusters\n",
        "        self.n_init = n_init\n",
        "        self.max_iter = max_iter\n",
        "        self.tol = tol\n",
        "        self.verbose = verbose\n",
        "    def fit(self, X):\n",
        "        \"\"\"\n",
        "        Calculate clustering by K-means\n",
        "        Parameters\n",
        "        ----------\n",
        "        X : The following forms of ndarray, shape (n_samples, n_features)\n",
        "            Features of training data\n",
        "        \"\"\"\n",
        "\n",
        "        if self.verbose:\n",
        "            # Output the learning process when #verbose is set to True\n",
        "            print()\n",
        "        pass\n",
        "    def predict(self, X):\n",
        "        \"\"\"\n",
        "        Calculate which cluster the input data belongs to\n",
        "        \"\"\"\n",
        "        pass\n",
        "        return"
      ]
    },
    {
      "cell_type": "markdown",
      "source": [
        "# inicial value of center point"
      ],
      "metadata": {
        "id": "gUANycL7Cn6n"
      }
    },
    {
      "cell_type": "code",
      "source": [
        "from sklearn.datasets import make_blobs\n",
        "\n",
        "X, _ = make_blobs(\n",
        "    n_samples=100,\n",
        "    n_features=2,\n",
        "    centers=4,\n",
        "    cluster_std=0.5,\n",
        "    shuffle=True,\n",
        "    random_state=0,\n",
        ")"
      ],
      "metadata": {
        "id": "Z_mWHGq4BqnF"
      },
      "execution_count": null,
      "outputs": []
    },
    {
      "cell_type": "code",
      "source": [
        "self.myu = X[np.random.choice(len(X), size=self.n_clusters, replace=False)]"
      ],
      "metadata": {
        "id": "vh8G3HVSCtaw"
      },
      "execution_count": null,
      "outputs": []
    },
    {
      "cell_type": "markdown",
      "source": [
        " sum of squared errors SSE"
      ],
      "metadata": {
        "id": "tgt2mfabCnc7"
      }
    },
    {
      "cell_type": "code",
      "source": [
        "def calc_sse(self, X):\n",
        "    sse = 0\n",
        "    for i in range(len(X)):\n",
        "        for j in range(self.n_clusters):\n",
        "            if j == X[i, -1]:\n",
        "                sse += np.sum((X[i, :-1] - self.myu[j]) ** 2)\n",
        "    if self.best_sse > sse:\n",
        "        self.best_sse = sse\n",
        "        self.record_myu = self.myu\n",
        "        self.record_cluster = self.n_clusters"
      ],
      "metadata": {
        "id": "H9JWaIj7DAUI"
      },
      "execution_count": null,
      "outputs": []
    },
    {
      "cell_type": "markdown",
      "source": [
        "assignment to a cluster\n"
      ],
      "metadata": {
        "id": "8JX7YjNBDnnS"
      }
    },
    {
      "cell_type": "code",
      "source": [
        "def _update_cluster(self, X):\n",
        "    for i in range(len(X)):\n",
        "        dist_m = 10**20\n",
        "        for j in range(self.n_clusters):\n",
        "            dist = np.sqrt(np.sum((X[i, :-1] - self.myu[j]) ** 2))\n",
        "            if dist < dist_m:\n",
        "                dist_m = dist\n",
        "                X[i, -1] = j\n"
      ],
      "metadata": {
        "id": "8gwNKS5nDp6q"
      },
      "execution_count": null,
      "outputs": []
    },
    {
      "cell_type": "markdown",
      "source": [
        "moving the center point"
      ],
      "metadata": {
        "id": "hRzdZ2sxDtz2"
      }
    },
    {
      "cell_type": "code",
      "source": [
        "def _update_myu(self, X):\n",
        "    for j in range(self.n_clusters):\n",
        "        self.myu[j] = np.mean(X[X[:, -1] == j, :-1], axis=0)\n"
      ],
      "metadata": {
        "id": "4CPL_LdEDvew"
      },
      "execution_count": null,
      "outputs": []
    },
    {
      "cell_type": "markdown",
      "source": [
        "repeat"
      ],
      "metadata": {
        "id": "vx-KeIJ_DyHA"
      }
    },
    {
      "cell_type": "code",
      "source": [
        "def fit(self, X):\n",
        "    for i in range(self.n_init):\n",
        "        self.myu = X[np.random.choice(len(X), size=self.n_clusters, replace=False)]\n",
        "        cluster = np.zeros(len(X))\n",
        "        X_cluster = np.concatenate([X, cluster.reshape(-1, 1)], axis=1)\n",
        "        for j in range(self.n_iter):\n",
        "            self.calc_sse(X_cluster)\n",
        "            self._update_cluster(X_cluster)\n",
        "            self._update_myu(X_cluster)\n",
        "            if self.verbose:\n",
        "                print(\n",
        "                    \"Initialize：%s　Number of times studied：%s　Best SSE：%s\"\n",
        "                    % (i, j, self.best_sse)\n",
        "                )"
      ],
      "metadata": {
        "id": "Nz0nY8MfDzfc"
      },
      "execution_count": null,
      "outputs": []
    },
    {
      "cell_type": "markdown",
      "source": [
        "different inicial values"
      ],
      "metadata": {
        "id": "Va2RBcCvEDLo"
      }
    },
    {
      "cell_type": "code",
      "source": [
        "def __init__(self, n_clusters=2, n_init=20, n_iter=100, verbose=False):\n",
        "        self.n_clusters = n_clusters\n",
        "        self.n_init = n_init\n",
        "        self.n_iter = n_iter\n",
        "        self.verbose = verbose\n",
        "        self.best_sse = 10**20"
      ],
      "metadata": {
        "id": "1d7LON7_EFHK"
      },
      "execution_count": null,
      "outputs": []
    },
    {
      "cell_type": "markdown",
      "source": [
        "estimation"
      ],
      "metadata": {
        "id": "4NEvl1EUEIPI"
      }
    },
    {
      "cell_type": "code",
      "source": [
        "def predict(self, X):\n",
        "    y_pred = np.zeros(len(X))\n",
        "    for i in range(len(X)):\n",
        "        dist_m = 10**20\n",
        "        for j in range(self.record_cluster):\n",
        "            dist = np.sqrt(np.sum((X[i] - self.record_myu[j]) ** 2))\n",
        "            if dist < dist_m:\n",
        "                dist_m = dist\n",
        "                y_pred[i] = j\n",
        "    return y_pred"
      ],
      "metadata": {
        "id": "LiqRy3DNEKA6"
      },
      "execution_count": null,
      "outputs": []
    },
    {
      "cell_type": "markdown",
      "source": [
        "Execution"
      ],
      "metadata": {
        "id": "vWzNHkInENfK"
      }
    },
    {
      "cell_type": "code",
      "source": [
        "import numpy as np\n",
        "import pandas as pd\n",
        "import matplotlib.pyplot as plt\n",
        "from sklearn.datasets import make_blobs\n",
        "from sklearn.model_selection import train_test_split\n",
        "from sklearn.decomposition import PCA"
      ],
      "metadata": {
        "id": "Y6Dx3-EREOi2"
      },
      "execution_count": null,
      "outputs": []
    },
    {
      "cell_type": "code",
      "source": [
        "X_train, X_valid = train_test_split(X, train_size=0.8, random_state=None)"
      ],
      "metadata": {
        "id": "hwGjhq_bEQ0y"
      },
      "execution_count": null,
      "outputs": []
    },
    {
      "cell_type": "code",
      "source": [
        "clf = ScratchKMeans(n_clusters=4, n_init=5, n_iter=100, verbose=True)\n",
        "clf.fit(X_train)"
      ],
      "metadata": {
        "id": "87YNlzOpES5Y"
      },
      "execution_count": null,
      "outputs": []
    },
    {
      "cell_type": "code",
      "source": [
        "pred = clf.predict(X_valid)"
      ],
      "metadata": {
        "id": "kKQXHQ2nEVg2"
      },
      "execution_count": null,
      "outputs": []
    },
    {
      "cell_type": "markdown",
      "source": [
        "implementing the elbow method"
      ],
      "metadata": {
        "id": "YowgkTv_EdtK"
      }
    },
    {
      "cell_type": "code",
      "source": [
        "elbow = {}\n",
        "for k in range(1, 8):\n",
        "    model = ScratchKMeans(n_clusters=k, n_init=5, n_iter=100, verbose=False)\n",
        "    model.fit(X)\n",
        "    elbow[k] = model.best_sse\n",
        "fig = plt.subplots(figsize=(12, 8))\n",
        "plt.rcParams[\"font.size\"] = 20\n",
        "plt.plot(list(elbow.keys()), list(elbow.values()), \"rs--\")"
      ],
      "metadata": {
        "id": "hUWq4PjnEfn8"
      },
      "execution_count": null,
      "outputs": []
    },
    {
      "cell_type": "markdown",
      "source": [
        "slection of number of clusters"
      ],
      "metadata": {
        "id": "p9BtiPWCE0Q2"
      }
    },
    {
      "cell_type": "code",
      "source": [
        "data = pd.read_csv(\"Wholesale customers data.csv\")\n",
        "X = data[\n",
        "    [\"Fresh\", \"Milk\", \"Grocery\", \"Frozen\", \"Detergents_Paper\", \"Delicassen\"]\n",
        "].values"
      ],
      "metadata": {
        "id": "D5w9ceamE2P4"
      },
      "execution_count": null,
      "outputs": []
    },
    {
      "cell_type": "markdown",
      "source": [
        "comparison with known groups"
      ],
      "metadata": {
        "id": "Ct0dKxsWFDz2"
      }
    },
    {
      "cell_type": "code",
      "source": [
        "clf = ScratchKMeans(n_clusters=4, n_init=5, n_iter=100, verbose=False)\n",
        "clf.fit(X)\n",
        "pred = clf.predict(X)\n",
        "summary_df = pd.DataFrame(\n",
        "    {\n",
        "        \"pred\": pred,\n",
        "        \"Region\": data[\"Region\"],\n",
        "        \"Channel\": data[\"Channel\"],\n",
        "    }\n",
        ")"
      ],
      "metadata": {
        "id": "yHaPiIcQFGlq"
      },
      "execution_count": null,
      "outputs": []
    },
    {
      "cell_type": "code",
      "source": [
        "pd.pivot_table(\n",
        "    summary_df, index=\"Region\", columns=\"pred\", values=\"Channel\", aggfunc=len\n",
        ")"
      ],
      "metadata": {
        "id": "WrNvjF53FKrU"
      },
      "execution_count": null,
      "outputs": []
    },
    {
      "cell_type": "code",
      "source": [
        "pd.pivot_table(\n",
        "    summary_df, index=\"Channel\", columns=\"pred\", values=\"Region\", aggfunc=len\n",
        ")"
      ],
      "metadata": {
        "id": "x4FNs5O-FN70"
      },
      "execution_count": null,
      "outputs": []
    },
    {
      "cell_type": "markdown",
      "source": [
        "useful information for wholesalers"
      ],
      "metadata": {
        "id": "S9EA6XKoFSan"
      }
    },
    {
      "cell_type": "code",
      "source": [
        "data[\"cluster\"] = pred"
      ],
      "metadata": {
        "id": "OrmEpuPBFWVw"
      },
      "execution_count": null,
      "outputs": []
    },
    {
      "cell_type": "code",
      "source": [
        "data.groupby(\"cluster\").agg([\"mean\"])"
      ],
      "metadata": {
        "id": "WmYLfo1IFi-T"
      },
      "execution_count": null,
      "outputs": []
    },
    {
      "cell_type": "markdown",
      "source": [
        "# Assingment"
      ],
      "metadata": {
        "id": "ENhFz4xWGbg1"
      }
    },
    {
      "cell_type": "markdown",
      "source": [
        "Problem 1 - Determine inicial value of center point"
      ],
      "metadata": {
        "id": "QnGxT6G1Gd3z"
      }
    },
    {
      "cell_type": "code",
      "source": [],
      "metadata": {
        "id": "vW9bf7K0KFua"
      },
      "execution_count": null,
      "outputs": []
    },
    {
      "cell_type": "markdown",
      "source": [
        "Problem 2 - Creating sse"
      ],
      "metadata": {
        "id": "3X3az_AQKGEg"
      }
    },
    {
      "cell_type": "code",
      "source": [
        "def calc_sse(self, X):\n",
        "    sse = 0\n",
        "    for i in range(len(X)):\n",
        "        for j in range(self.n_clusters):\n",
        "            if j == X[i, -1]:\n",
        "                sse += np.sum((X[i, :-1] - self.myu[j]) ** 2)\n",
        "    if self.best_sse > sse:\n",
        "        self.best_sse = sse\n",
        "        self.record_myu = self.myu\n",
        "        self.record_cluster = self.n_clusters\n"
      ],
      "metadata": {
        "id": "LusqCZDiKIow"
      },
      "execution_count": null,
      "outputs": []
    },
    {
      "cell_type": "markdown",
      "source": [
        "Problem 3 - Assignment of cluster"
      ],
      "metadata": {
        "id": "a8PfTUG0KM47"
      }
    },
    {
      "cell_type": "code",
      "source": [
        "def _update_cluster(self, X):\n",
        "    for i in range(len(X)):\n",
        "        dist_m = 10**20\n",
        "        for j in range(self.n_clusters):\n",
        "            dist = np.sqrt(np.sum((X[i, :-1] - self.myu[j]) ** 2))\n",
        "            if dist < dist_m:\n",
        "                dist_m = dist\n",
        "                X[i, -1] = j\n"
      ],
      "metadata": {
        "id": "ivUvKillKNSo"
      },
      "execution_count": null,
      "outputs": []
    },
    {
      "cell_type": "markdown",
      "source": [
        "Problem 4 - movement of center point"
      ],
      "metadata": {
        "id": "7JNy92auKQy7"
      }
    },
    {
      "cell_type": "code",
      "source": [
        "def _update_myu(self, X):\n",
        "    for j in range(self.n_clusters):\n",
        "        self.myu[j] = np.mean(X[X[:, -1] == j, :-1], axis=0)\n"
      ],
      "metadata": {
        "id": "2-IdThoWKQy8"
      },
      "execution_count": null,
      "outputs": []
    },
    {
      "cell_type": "markdown",
      "source": [
        "Problem 5 - Repeat"
      ],
      "metadata": {
        "id": "vAXwant9KNnp"
      }
    },
    {
      "cell_type": "code",
      "source": [
        "def fit(self, X):\n",
        "    for i in range(self.n_init):\n",
        "        self.myu = X[np.random.choice(len(X), size=self.n_clusters, replace=False)]\n",
        "        cluster = np.zeros(len(X))\n",
        "        X_cluster = np.concatenate([X, cluster.reshape(-1, 1)], axis=1)\n",
        "        for j in range(self.n_iter):\n",
        "            self.calc_sse(X_cluster)\n",
        "            self._update_cluster(X_cluster)\n",
        "            self._update_myu(X_cluster)\n",
        "            if self.verbose:\n",
        "                print(\n",
        "                    \"Initialize：%s　Number of times studied：%s　Best SSE：%s\"\n",
        "                    % (i, j, self.best_sse)\n",
        "                )\n"
      ],
      "metadata": {
        "id": "I0c8yHrjKNnp"
      },
      "execution_count": null,
      "outputs": []
    },
    {
      "cell_type": "markdown",
      "source": [
        "Problem 6 - Calculate diferential values"
      ],
      "metadata": {
        "id": "QWhNgJ6fKOWr"
      }
    },
    {
      "cell_type": "code",
      "source": [
        "def __init__(self, n_clusters=2, n_init=20, n_iter=100, verbose=False):\n",
        "    self.n_clusters = n_clusters\n",
        "    self.n_init = n_init\n",
        "    self.n_iter = n_iter\n",
        "    self.verbose = verbose\n",
        "    self.best_sse = 10**20\n"
      ],
      "metadata": {
        "id": "OHcDA1KSKOWs"
      },
      "execution_count": null,
      "outputs": []
    },
    {
      "cell_type": "markdown",
      "source": [
        "Problem 7 - Estimate"
      ],
      "metadata": {
        "id": "pCQThtMmKOws"
      }
    },
    {
      "cell_type": "code",
      "source": [
        "def predict(self, X):\n",
        "    y_pred = np.zeros(len(X))\n",
        "    for i in range(len(X)):\n",
        "        dist_m = 10**20\n",
        "        for j in range(self.record_cluster):\n",
        "            dist = np.sqrt(np.sum((X[i] - self.record_myu[j]) ** 2))\n",
        "            if dist < dist_m:\n",
        "                dist_m = dist\n",
        "                y_pred[i] = j\n",
        "    return y_pred\n"
      ],
      "metadata": {
        "id": "-RzI0-AGKOws"
      },
      "execution_count": null,
      "outputs": []
    },
    {
      "cell_type": "markdown",
      "source": [
        "# Scratch Code"
      ],
      "metadata": {
        "id": "2PYiDog1LOm_"
      }
    },
    {
      "cell_type": "code",
      "source": [
        "import numpy as np\n",
        "\n",
        "class ScratchKMeans():\n",
        "    \"\"\"\n",
        "    K-means scratch implementation\n",
        "\n",
        "    Parameters\n",
        "    ----------\n",
        "    n_clusters : int\n",
        "        Number of clusters\n",
        "    n_init : int\n",
        "        How many times to change the initial value of the center point for calculation\n",
        "    n_iter : int\n",
        "        Maximum number of iterations in one calculation\n",
        "    verbose : bool\n",
        "        True to output the learning process\n",
        "    \"\"\"\n",
        "\n",
        "    def __init__(self, n_clusters=2, n_init=10, n_iter=100, verbose=False):\n",
        "        self.n_clusters = n_clusters\n",
        "        self.n_init = n_init\n",
        "        self.n_iter = n_iter\n",
        "        self.verbose = verbose\n",
        "        self.best_sse = 10**20  # initialize best SSE to a large value\n",
        "\n",
        "    def fit(self, X):\n",
        "        self.X = X\n",
        "        for i in range(self.n_init):\n",
        "            # Step 1: Randomly initialize centroids\n",
        "            self.myu = X[np.random.choice(len(X), size=self.n_clusters, replace=False)]\n",
        "\n",
        "            # Step 2: Add dummy cluster column\n",
        "            cluster = np.zeros(len(X))\n",
        "            X_cluster = np.concatenate([X, cluster.reshape(-1, 1)], axis=1)\n",
        "\n",
        "            for j in range(self.n_iter):\n",
        "                self._calc_sse(X_cluster)\n",
        "                self._update_cluster(X_cluster)\n",
        "                self._update_myu(X_cluster)\n",
        "\n",
        "                if self.verbose:\n",
        "                    print(f\"Init {i+1}, Iter {j+1}, Best SSE: {self.best_sse:.4f}\")\n",
        "\n",
        "    def predict(self, X):\n",
        "        y_pred = np.zeros(len(X))\n",
        "        for i in range(len(X)):\n",
        "            dist_min = float('inf')\n",
        "            for j in range(self.record_cluster):\n",
        "                dist = np.linalg.norm(X[i] - self.record_myu[j])\n",
        "                if dist < dist_min:\n",
        "                    dist_min = dist\n",
        "                    y_pred[i] = j\n",
        "        return y_pred\n",
        "\n",
        "    def _calc_sse(self, X):\n",
        "        sse = 0\n",
        "        for i in range(len(X)):\n",
        "            j = int(X[i, -1])\n",
        "            sse += np.sum((X[i, :-1] - self.myu[j]) ** 2)\n",
        "\n",
        "        if sse < self.best_sse:\n",
        "            self.best_sse = sse\n",
        "            self.record_myu = self.myu.copy()\n",
        "            self.record_cluster = self.n_clusters\n",
        "\n",
        "    def _update_cluster(self, X):\n",
        "        for i in range(len(X)):\n",
        "            distances = [np.linalg.norm(X[i, :-1] - center) for center in self.myu]\n",
        "            X[i, -1] = np.argmin(distances)\n",
        "\n",
        "    def _update_myu(self, X):\n",
        "        for j in range(self.n_clusters):\n",
        "            cluster_points = X[X[:, -1] == j, :-1]\n",
        "            if len(cluster_points) > 0:\n",
        "                self.myu[j] = np.mean(cluster_points, axis=0)\n"
      ],
      "metadata": {
        "id": "GScSfIf3LQel"
      },
      "execution_count": null,
      "outputs": []
    }
  ]
}